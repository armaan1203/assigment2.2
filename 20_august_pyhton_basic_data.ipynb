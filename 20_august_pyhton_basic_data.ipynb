{
 "cells": [
  {
   "cell_type": "code",
   "execution_count": 1,
   "id": "ce477396-543e-497a-bf86-9279cae8a73a",
   "metadata": {},
   "outputs": [],
   "source": [
    "a='a r m a a n'"
   ]
  },
  {
   "cell_type": "code",
   "execution_count": 2,
   "id": "57f07c85-410e-415f-bbaa-b590e9c0ec66",
   "metadata": {},
   "outputs": [
    {
     "data": {
      "text/plain": [
       "'n a a m r a'"
      ]
     },
     "execution_count": 2,
     "metadata": {},
     "output_type": "execute_result"
    }
   ],
   "source": [
    "a[::-1]"
   ]
  },
  {
   "cell_type": "code",
   "execution_count": 3,
   "id": "21c9ad07-4632-4236-886a-33b6d1f2f772",
   "metadata": {},
   "outputs": [],
   "source": [
    "b='malyalam'"
   ]
  },
  {
   "cell_type": "code",
   "execution_count": 4,
   "id": "213ea430-1575-40c2-9da2-72539c275191",
   "metadata": {},
   "outputs": [
    {
     "data": {
      "text/plain": [
       "True"
      ]
     },
     "execution_count": 4,
     "metadata": {},
     "output_type": "execute_result"
    }
   ],
   "source": [
    "b.isidentifier()"
   ]
  },
  {
   "cell_type": "code",
   "execution_count": 5,
   "id": "ffafcde4-76c3-4fc2-b27e-6c882abe9f8a",
   "metadata": {},
   "outputs": [
    {
     "data": {
      "text/plain": [
       "'MALYALAM'"
      ]
     },
     "execution_count": 5,
     "metadata": {},
     "output_type": "execute_result"
    }
   ],
   "source": [
    "b.upper()"
   ]
  },
  {
   "cell_type": "code",
   "execution_count": 6,
   "id": "c0ef150d-faf8-411c-b596-33e5a54702a4",
   "metadata": {},
   "outputs": [
    {
     "data": {
      "text/plain": [
       "'malyalam'"
      ]
     },
     "execution_count": 6,
     "metadata": {},
     "output_type": "execute_result"
    }
   ],
   "source": [
    "b.lower()"
   ]
  },
  {
   "cell_type": "code",
   "execution_count": 7,
   "id": "4f290e32-6fa3-48ca-b560-1b3209d4d82f",
   "metadata": {},
   "outputs": [
    {
     "data": {
      "text/plain": [
       "str"
      ]
     },
     "execution_count": 7,
     "metadata": {},
     "output_type": "execute_result"
    }
   ],
   "source": [
    "type(a)"
   ]
  },
  {
   "cell_type": "code",
   "execution_count": 8,
   "id": "7220ee4b-7ba6-4c07-b50b-f61217867ece",
   "metadata": {},
   "outputs": [
    {
     "data": {
      "text/plain": [
       "'a r m a a n'"
      ]
     },
     "execution_count": 8,
     "metadata": {},
     "output_type": "execute_result"
    }
   ],
   "source": [
    "a"
   ]
  },
  {
   "cell_type": "code",
   "execution_count": 9,
   "id": "6092fd56-18e4-4ae1-8f60-8f3f086ad652",
   "metadata": {},
   "outputs": [
    {
     "data": {
      "text/plain": [
       "11"
      ]
     },
     "execution_count": 9,
     "metadata": {},
     "output_type": "execute_result"
    }
   ],
   "source": [
    "len(a)"
   ]
  },
  {
   "cell_type": "code",
   "execution_count": 10,
   "id": "55b74640-7ba5-431b-aa53-27180b112545",
   "metadata": {},
   "outputs": [],
   "source": [
    "c='abcdefghijklmnopqrstuvwxyz'"
   ]
  },
  {
   "cell_type": "code",
   "execution_count": 11,
   "id": "3b42178a-fcd2-4bda-a223-2f9b83819a68",
   "metadata": {},
   "outputs": [
    {
     "data": {
      "text/plain": [
       "1"
      ]
     },
     "execution_count": 11,
     "metadata": {},
     "output_type": "execute_result"
    }
   ],
   "source": [
    "c.count('a')"
   ]
  },
  {
   "cell_type": "code",
   "execution_count": 12,
   "id": "3022d20c-dcd4-4f26-a164-9adfa99d1dc2",
   "metadata": {},
   "outputs": [
    {
     "data": {
      "text/plain": [
       "1"
      ]
     },
     "execution_count": 12,
     "metadata": {},
     "output_type": "execute_result"
    }
   ],
   "source": [
    "c.count('e')"
   ]
  },
  {
   "cell_type": "code",
   "execution_count": 13,
   "id": "66d7e6da-1aa0-4b47-b83a-5d451a6b6ee2",
   "metadata": {},
   "outputs": [
    {
     "data": {
      "text/plain": [
       "1"
      ]
     },
     "execution_count": 13,
     "metadata": {},
     "output_type": "execute_result"
    }
   ],
   "source": [
    "c.count('i')"
   ]
  },
  {
   "cell_type": "code",
   "execution_count": 14,
   "id": "78bba7d0-3587-4db8-bc40-247133997ac2",
   "metadata": {},
   "outputs": [
    {
     "data": {
      "text/plain": [
       "1"
      ]
     },
     "execution_count": 14,
     "metadata": {},
     "output_type": "execute_result"
    }
   ],
   "source": [
    "c.count('o')"
   ]
  },
  {
   "cell_type": "code",
   "execution_count": 15,
   "id": "1eb63c68-b886-4a94-b707-eaf067112f76",
   "metadata": {},
   "outputs": [
    {
     "data": {
      "text/plain": [
       "1"
      ]
     },
     "execution_count": 15,
     "metadata": {},
     "output_type": "execute_result"
    }
   ],
   "source": [
    "c.count('u')"
   ]
  },
  {
   "cell_type": "code",
   "execution_count": 16,
   "id": "8ac0ace9-9dcf-4f5e-a7fd-28a83805a349",
   "metadata": {},
   "outputs": [
    {
     "data": {
      "text/plain": [
       "1"
      ]
     },
     "execution_count": 16,
     "metadata": {},
     "output_type": "execute_result"
    }
   ],
   "source": [
    "c.count('b')"
   ]
  },
  {
   "cell_type": "code",
   "execution_count": 17,
   "id": "56439b1a-6b9f-4037-a2a5-fe7883374ce5",
   "metadata": {},
   "outputs": [
    {
     "data": {
      "text/plain": [
       "1"
      ]
     },
     "execution_count": 17,
     "metadata": {},
     "output_type": "execute_result"
    }
   ],
   "source": [
    "c.count('c')"
   ]
  },
  {
   "cell_type": "code",
   "execution_count": 18,
   "id": "b09a9ade-062a-4b87-bf74-3ddbbf3facd3",
   "metadata": {},
   "outputs": [
    {
     "data": {
      "text/plain": [
       "1"
      ]
     },
     "execution_count": 18,
     "metadata": {},
     "output_type": "execute_result"
    }
   ],
   "source": [
    "c.count('d')"
   ]
  },
  {
   "cell_type": "code",
   "execution_count": 19,
   "id": "ee6c1cea-8f55-4f77-962f-b0f19e44869c",
   "metadata": {},
   "outputs": [
    {
     "data": {
      "text/plain": [
       "1"
      ]
     },
     "execution_count": 19,
     "metadata": {},
     "output_type": "execute_result"
    }
   ],
   "source": [
    "c.count('f')"
   ]
  },
  {
   "cell_type": "code",
   "execution_count": 20,
   "id": "8ee8254a-bf98-4739-8cd2-21952ab2ae4f",
   "metadata": {},
   "outputs": [
    {
     "data": {
      "text/plain": [
       "1"
      ]
     },
     "execution_count": 20,
     "metadata": {},
     "output_type": "execute_result"
    }
   ],
   "source": [
    "c.count('g')"
   ]
  },
  {
   "cell_type": "code",
   "execution_count": 21,
   "id": "5cc96b9c-4c78-4c27-9b52-c7d02291cfec",
   "metadata": {},
   "outputs": [
    {
     "data": {
      "text/plain": [
       "1"
      ]
     },
     "execution_count": 21,
     "metadata": {},
     "output_type": "execute_result"
    }
   ],
   "source": [
    "c.count('h')"
   ]
  },
  {
   "cell_type": "code",
   "execution_count": 22,
   "id": "d9541932-2773-404f-9246-084a89fb1969",
   "metadata": {},
   "outputs": [
    {
     "data": {
      "text/plain": [
       "1"
      ]
     },
     "execution_count": 22,
     "metadata": {},
     "output_type": "execute_result"
    }
   ],
   "source": [
    "c.count('j')"
   ]
  },
  {
   "cell_type": "code",
   "execution_count": 23,
   "id": "b43acb29-2b5e-4b09-becd-a082d64a6b2c",
   "metadata": {},
   "outputs": [
    {
     "data": {
      "text/plain": [
       "1"
      ]
     },
     "execution_count": 23,
     "metadata": {},
     "output_type": "execute_result"
    }
   ],
   "source": [
    "c.count('k')"
   ]
  },
  {
   "cell_type": "code",
   "execution_count": 24,
   "id": "c342a218-e42f-4262-b2ba-a55cefdb0724",
   "metadata": {},
   "outputs": [
    {
     "data": {
      "text/plain": [
       "1"
      ]
     },
     "execution_count": 24,
     "metadata": {},
     "output_type": "execute_result"
    }
   ],
   "source": [
    "c.count('l')"
   ]
  },
  {
   "cell_type": "code",
   "execution_count": 25,
   "id": "93fea2d3-832f-449c-b388-fd1335583aa8",
   "metadata": {},
   "outputs": [
    {
     "data": {
      "text/plain": [
       "1"
      ]
     },
     "execution_count": 25,
     "metadata": {},
     "output_type": "execute_result"
    }
   ],
   "source": [
    "c.count('m')"
   ]
  },
  {
   "cell_type": "code",
   "execution_count": 26,
   "id": "6ef857f9-15f4-4481-afb0-ca450aff0108",
   "metadata": {},
   "outputs": [
    {
     "data": {
      "text/plain": [
       "1"
      ]
     },
     "execution_count": 26,
     "metadata": {},
     "output_type": "execute_result"
    }
   ],
   "source": [
    "c.count('n')"
   ]
  },
  {
   "cell_type": "code",
   "execution_count": 27,
   "id": "0b033d7e-2fd7-432c-ae6b-d75a6ef309d2",
   "metadata": {},
   "outputs": [
    {
     "data": {
      "text/plain": [
       "1"
      ]
     },
     "execution_count": 27,
     "metadata": {},
     "output_type": "execute_result"
    }
   ],
   "source": [
    "c.count('p')"
   ]
  },
  {
   "cell_type": "code",
   "execution_count": 28,
   "id": "61acbdb3-f909-4d5a-a644-c0a082d8be54",
   "metadata": {},
   "outputs": [
    {
     "data": {
      "text/plain": [
       "1"
      ]
     },
     "execution_count": 28,
     "metadata": {},
     "output_type": "execute_result"
    }
   ],
   "source": [
    "c.count('q')"
   ]
  },
  {
   "cell_type": "code",
   "execution_count": 29,
   "id": "bde22b66-265f-4a3c-95c7-3d51ae3476be",
   "metadata": {},
   "outputs": [
    {
     "data": {
      "text/plain": [
       "1"
      ]
     },
     "execution_count": 29,
     "metadata": {},
     "output_type": "execute_result"
    }
   ],
   "source": [
    "c.count('r')"
   ]
  },
  {
   "cell_type": "code",
   "execution_count": 30,
   "id": "0fca9588-17fc-489b-a2c1-7552e26d4fc3",
   "metadata": {},
   "outputs": [
    {
     "data": {
      "text/plain": [
       "1"
      ]
     },
     "execution_count": 30,
     "metadata": {},
     "output_type": "execute_result"
    }
   ],
   "source": [
    "c.count('s')"
   ]
  },
  {
   "cell_type": "code",
   "execution_count": 31,
   "id": "7953b82e-3058-4d61-bc04-7ceedf1525be",
   "metadata": {},
   "outputs": [
    {
     "data": {
      "text/plain": [
       "1"
      ]
     },
     "execution_count": 31,
     "metadata": {},
     "output_type": "execute_result"
    }
   ],
   "source": [
    "c.count('t')"
   ]
  },
  {
   "cell_type": "code",
   "execution_count": 32,
   "id": "78b6f094-257f-4bad-baa9-bddedbdb7e8e",
   "metadata": {},
   "outputs": [
    {
     "data": {
      "text/plain": [
       "1"
      ]
     },
     "execution_count": 32,
     "metadata": {},
     "output_type": "execute_result"
    }
   ],
   "source": [
    "c.count('v')"
   ]
  },
  {
   "cell_type": "code",
   "execution_count": 33,
   "id": "9850d59b-f88d-425f-a121-b9d8326260e5",
   "metadata": {},
   "outputs": [
    {
     "data": {
      "text/plain": [
       "1"
      ]
     },
     "execution_count": 33,
     "metadata": {},
     "output_type": "execute_result"
    }
   ],
   "source": [
    "c.count('w')"
   ]
  },
  {
   "cell_type": "code",
   "execution_count": 34,
   "id": "56407dbf-440c-4587-9bb6-8b56d0a6961b",
   "metadata": {},
   "outputs": [
    {
     "data": {
      "text/plain": [
       "1"
      ]
     },
     "execution_count": 34,
     "metadata": {},
     "output_type": "execute_result"
    }
   ],
   "source": [
    "c.count('x')"
   ]
  },
  {
   "cell_type": "code",
   "execution_count": 35,
   "id": "e5c07e88-4fd4-484c-a528-c80e2a33dc4d",
   "metadata": {},
   "outputs": [
    {
     "data": {
      "text/plain": [
       "1"
      ]
     },
     "execution_count": 35,
     "metadata": {},
     "output_type": "execute_result"
    }
   ],
   "source": [
    "c.count('y')"
   ]
  },
  {
   "cell_type": "code",
   "execution_count": 36,
   "id": "29ec90f6-7c21-46bc-a538-d74ab2f10471",
   "metadata": {},
   "outputs": [
    {
     "data": {
      "text/plain": [
       "1"
      ]
     },
     "execution_count": 36,
     "metadata": {},
     "output_type": "execute_result"
    }
   ],
   "source": [
    "c.count('z')"
   ]
  },
  {
   "cell_type": "code",
   "execution_count": 37,
   "id": "b120f1ed-c7bf-4615-a21d-f62dcdda87a7",
   "metadata": {},
   "outputs": [],
   "source": [
    "d='     armaan      '"
   ]
  },
  {
   "cell_type": "code",
   "execution_count": 38,
   "id": "9c079768-8a0e-49b9-b55b-42d0478da37a",
   "metadata": {},
   "outputs": [
    {
     "data": {
      "text/plain": [
       "'armaan'"
      ]
     },
     "execution_count": 38,
     "metadata": {},
     "output_type": "execute_result"
    }
   ],
   "source": [
    "d.strip()"
   ]
  },
  {
   "cell_type": "code",
   "execution_count": 39,
   "id": "e4c89f68-c0cb-45f5-9211-98abcacea7e3",
   "metadata": {},
   "outputs": [],
   "source": [
    "e='yadav'"
   ]
  },
  {
   "cell_type": "code",
   "execution_count": 40,
   "id": "cea21cec-63ee-47c0-a337-d271f80696ef",
   "metadata": {},
   "outputs": [
    {
     "data": {
      "text/plain": [
       "5"
      ]
     },
     "execution_count": 40,
     "metadata": {},
     "output_type": "execute_result"
    }
   ],
   "source": [
    "e.rindex('v')+1"
   ]
  },
  {
   "cell_type": "code",
   "execution_count": 41,
   "id": "fb4dcd7f-3904-41f7-90d9-dbc42cc975bd",
   "metadata": {},
   "outputs": [
    {
     "name": "stdout",
     "output_type": "stream",
     "text": [
      "the string contains the word\n"
     ]
    }
   ],
   "source": [
    "if 'd' in e:\n",
    "    print('the string contains the word')"
   ]
  },
  {
   "cell_type": "code",
   "execution_count": 42,
   "id": "b239aa1e-7bf1-4ab5-bf86-3172fa55b98d",
   "metadata": {},
   "outputs": [],
   "source": [
    "f='i like apple and apple is good for health a apple is a fruit'"
   ]
  },
  {
   "cell_type": "code",
   "execution_count": 43,
   "id": "4a4a6996-124f-4040-85f7-3dd1633dca45",
   "metadata": {},
   "outputs": [
    {
     "data": {
      "text/plain": [
       "'i like apple and apple is bad for health a apple is a fruit'"
      ]
     },
     "execution_count": 43,
     "metadata": {},
     "output_type": "execute_result"
    }
   ],
   "source": [
    "f.replace('good','bad')"
   ]
  },
  {
   "cell_type": "code",
   "execution_count": 44,
   "id": "1ecc2ec3-3753-4c0e-a9fa-a2969646e966",
   "metadata": {},
   "outputs": [
    {
     "data": {
      "text/plain": [
       "3"
      ]
     },
     "execution_count": 44,
     "metadata": {},
     "output_type": "execute_result"
    }
   ],
   "source": [
    "f.count('apple')"
   ]
  },
  {
   "cell_type": "code",
   "execution_count": 45,
   "id": "9d7eca07-9b29-4556-83fd-5a29e04753bc",
   "metadata": {},
   "outputs": [
    {
     "data": {
      "text/plain": [
       "7"
      ]
     },
     "execution_count": 45,
     "metadata": {},
     "output_type": "execute_result"
    }
   ],
   "source": [
    "f.find('apple')"
   ]
  },
  {
   "cell_type": "code",
   "execution_count": 46,
   "id": "4922f83c-b326-4c22-b81b-3a921856f49b",
   "metadata": {},
   "outputs": [
    {
     "data": {
      "text/plain": [
       "44"
      ]
     },
     "execution_count": 46,
     "metadata": {},
     "output_type": "execute_result"
    }
   ],
   "source": [
    "f.rfind('apple')"
   ]
  },
  {
   "cell_type": "code",
   "execution_count": 47,
   "id": "0f54c4e5-24a9-4068-8bae-de51a1289f88",
   "metadata": {},
   "outputs": [
    {
     "data": {
      "text/plain": [
       "['i',\n",
       " 'like',\n",
       " 'apple',\n",
       " 'and',\n",
       " 'apple',\n",
       " 'is',\n",
       " 'good',\n",
       " 'for',\n",
       " 'health',\n",
       " 'a',\n",
       " 'apple',\n",
       " 'is',\n",
       " 'a',\n",
       " 'fruit']"
      ]
     },
     "execution_count": 47,
     "metadata": {},
     "output_type": "execute_result"
    }
   ],
   "source": [
    "f.split(' ')"
   ]
  },
  {
   "cell_type": "code",
   "execution_count": 48,
   "id": "3f8844e3-501e-466c-85ec-52daf34f4bc3",
   "metadata": {},
   "outputs": [
    {
     "data": {
      "text/plain": [
       "\"['i like apple and apple is good for health a apple is a fruit']\""
      ]
     },
     "execution_count": 48,
     "metadata": {},
     "output_type": "execute_result"
    }
   ],
   "source": [
    "str(f.split(','))"
   ]
  },
  {
   "cell_type": "code",
   "execution_count": 49,
   "id": "993bc1d6-364a-4fdd-8b78-7f7a4c02ccce",
   "metadata": {},
   "outputs": [],
   "source": [
    "g='apple is red in color'"
   ]
  },
  {
   "cell_type": "code",
   "execution_count": 50,
   "id": "104012ca-abc5-4755-9cba-8714ba75e504",
   "metadata": {},
   "outputs": [
    {
     "data": {
      "text/plain": [
       "'apple_is_red_in_color'"
      ]
     },
     "execution_count": 50,
     "metadata": {},
     "output_type": "execute_result"
    }
   ],
   "source": [
    "g.replace(' ','_')"
   ]
  },
  {
   "cell_type": "code",
   "execution_count": 51,
   "id": "142fc562-2500-4c26-8750-059d2e9c768c",
   "metadata": {},
   "outputs": [
    {
     "data": {
      "text/plain": [
       "False"
      ]
     },
     "execution_count": 51,
     "metadata": {},
     "output_type": "execute_result"
    }
   ],
   "source": [
    "g.startswith('i')"
   ]
  },
  {
   "cell_type": "code",
   "execution_count": 52,
   "id": "64a7b637-bac2-460a-b8fc-27ce20cc0c29",
   "metadata": {},
   "outputs": [
    {
     "data": {
      "text/plain": [
       "True"
      ]
     },
     "execution_count": 52,
     "metadata": {},
     "output_type": "execute_result"
    }
   ],
   "source": [
    "g.startswith('apple')"
   ]
  },
  {
   "cell_type": "code",
   "execution_count": 53,
   "id": "35cf7b39-7dad-41be-9732-35179d797d39",
   "metadata": {},
   "outputs": [
    {
     "data": {
      "text/plain": [
       "True"
      ]
     },
     "execution_count": 53,
     "metadata": {},
     "output_type": "execute_result"
    }
   ],
   "source": [
    "g.endswith('r')"
   ]
  },
  {
   "cell_type": "code",
   "execution_count": 54,
   "id": "1c1eb23d-9cb5-4a4b-bfa6-103cde9acaee",
   "metadata": {},
   "outputs": [
    {
     "data": {
      "text/plain": [
       "'Apple Is Red In Color'"
      ]
     },
     "execution_count": 54,
     "metadata": {},
     "output_type": "execute_result"
    }
   ],
   "source": [
    "g.title()"
   ]
  },
  {
   "cell_type": "code",
   "execution_count": 55,
   "id": "f544e1ea-fa04-4966-986b-b78b1e5bcc81",
   "metadata": {},
   "outputs": [
    {
     "data": {
      "text/plain": [
       "['apple', 'is', 'red', 'in', 'color']"
      ]
     },
     "execution_count": 55,
     "metadata": {},
     "output_type": "execute_result"
    }
   ],
   "source": [
    "g.split()"
   ]
  },
  {
   "cell_type": "code",
   "execution_count": 56,
   "id": "a0b88ce7-478a-468f-8b48-998a98670627",
   "metadata": {},
   "outputs": [
    {
     "name": "stdout",
     "output_type": "stream",
     "text": [
      "The longest word is aaa\n"
     ]
    }
   ],
   "source": [
    "x='a aa aaa '\n",
    "\n",
    "if (len('a')>len('aa')) and (len('a')>len('aaa')):\n",
    "    print('The longest word is a')\n",
    "elif(len('aa')>len('a')) and (len('aa')>len('aaa')):\n",
    "    print('The longest word is aa')\n",
    "else:\n",
    "    print('The longest word is aaa')"
   ]
  },
  {
   "cell_type": "code",
   "execution_count": 57,
   "id": "bea6e13f-81bb-4ffc-aa97-ec2f8af90abc",
   "metadata": {},
   "outputs": [
    {
     "name": "stdout",
     "output_type": "stream",
     "text": [
      "The smallest word is a\n"
     ]
    }
   ],
   "source": [
    "x='a aa aaa '\n",
    "\n",
    "if (len('a')<len('aa')) and (len('a')<len('aaa')):\n",
    "    print('The smallest word is a')\n",
    "elif(len('aa')<len('a')) and (len('aa')<len('aaa')):\n",
    "    print('The smallest word is aa')\n",
    "else:\n",
    "    print('The smallest word is aaa')"
   ]
  },
  {
   "cell_type": "code",
   "execution_count": 58,
   "id": "5eb87fb1-6608-47b8-bc10-79307eb0c35c",
   "metadata": {},
   "outputs": [
    {
     "data": {
      "text/plain": [
       "'naamra si eman ym'"
      ]
     },
     "execution_count": 58,
     "metadata": {},
     "output_type": "execute_result"
    }
   ],
   "source": [
    "x1='my name is armaan'\n",
    "x1[::-1]"
   ]
  },
  {
   "cell_type": "code",
   "execution_count": 59,
   "id": "b739d4d2-4428-4369-b71d-7a382dcf0214",
   "metadata": {},
   "outputs": [
    {
     "name": "stdout",
     "output_type": "stream",
     "text": [
      "120304\n"
     ]
    }
   ],
   "source": [
    "h='armaan120304YADAV'\n",
    "if '120304' in h:\n",
    "    print('120304')"
   ]
  },
  {
   "cell_type": "code",
   "execution_count": 60,
   "id": "21fef2ee-bb3e-49ce-9116-4326af5052ef",
   "metadata": {},
   "outputs": [
    {
     "data": {
      "text/plain": [
       "True"
      ]
     },
     "execution_count": 60,
     "metadata": {},
     "output_type": "execute_result"
    }
   ],
   "source": [
    "h.isalnum()"
   ]
  },
  {
   "cell_type": "code",
   "execution_count": 61,
   "id": "1131c9a3-7e73-4133-9797-3b5bb782eec0",
   "metadata": {},
   "outputs": [
    {
     "data": {
      "text/plain": [
       "'120304'"
      ]
     },
     "execution_count": 61,
     "metadata": {},
     "output_type": "execute_result"
    }
   ],
   "source": [
    "h[6:12]"
   ]
  },
  {
   "cell_type": "code",
   "execution_count": 62,
   "id": "9a1d4577-d9d5-4363-bf91-c1ce98f67e2b",
   "metadata": {},
   "outputs": [
    {
     "data": {
      "text/plain": [
       "'armaan'"
      ]
     },
     "execution_count": 62,
     "metadata": {},
     "output_type": "execute_result"
    }
   ],
   "source": [
    "h[0:6]"
   ]
  },
  {
   "cell_type": "code",
   "execution_count": 63,
   "id": "4612bf7c-b876-4f5e-a851-e630fc7d34c4",
   "metadata": {},
   "outputs": [
    {
     "data": {
      "text/plain": [
       "'YADAV'"
      ]
     },
     "execution_count": 63,
     "metadata": {},
     "output_type": "execute_result"
    }
   ],
   "source": [
    "h[12:18]"
   ]
  },
  {
   "cell_type": "code",
   "execution_count": 64,
   "id": "6f121748-0028-4ef1-a6e0-74c92358a806",
   "metadata": {},
   "outputs": [
    {
     "data": {
      "text/plain": [
       "5"
      ]
     },
     "execution_count": 64,
     "metadata": {},
     "output_type": "execute_result"
    }
   ],
   "source": [
    "\n",
    "h.index('V')-h.index('4') #no. of upper case"
   ]
  },
  {
   "cell_type": "code",
   "execution_count": 65,
   "id": "3d907c40-d0c1-4518-adb2-265d29caf368",
   "metadata": {},
   "outputs": [
    {
     "data": {
      "text/plain": [
       "'armaan'"
      ]
     },
     "execution_count": 65,
     "metadata": {},
     "output_type": "execute_result"
    }
   ],
   "source": [
    "h[0:6]"
   ]
  },
  {
   "cell_type": "code",
   "execution_count": 66,
   "id": "d34aba0e-dd76-4cbc-a504-5312e8c8645c",
   "metadata": {},
   "outputs": [
    {
     "data": {
      "text/plain": [
       "5"
      ]
     },
     "execution_count": 66,
     "metadata": {},
     "output_type": "execute_result"
    }
   ],
   "source": [
    "h.index('n')-h.index('a') #no.of lower case"
   ]
  },
  {
   "cell_type": "code",
   "execution_count": 67,
   "id": "1250a5f0-d323-47ad-bc08-97042846051b",
   "metadata": {},
   "outputs": [
    {
     "data": {
      "text/plain": [
       "'ARMAAN120304yadav'"
      ]
     },
     "execution_count": 67,
     "metadata": {},
     "output_type": "execute_result"
    }
   ],
   "source": [
    "h.swapcase()"
   ]
  },
  {
   "cell_type": "code",
   "execution_count": 68,
   "id": "44530327-351f-4f20-b287-2f12d0a43d41",
   "metadata": {},
   "outputs": [
    {
     "data": {
      "text/plain": [
       "'120304YADAV'"
      ]
     },
     "execution_count": 68,
     "metadata": {},
     "output_type": "execute_result"
    }
   ],
   "source": [
    "h.removeprefix('armaan')"
   ]
  },
  {
   "cell_type": "code",
   "execution_count": 69,
   "id": "56f01b2a-787b-41cf-a264-fd833d939653",
   "metadata": {},
   "outputs": [],
   "source": [
    "i='yadavarmaan2004@gmail.com'"
   ]
  },
  {
   "cell_type": "code",
   "execution_count": 70,
   "id": "e8cc2d34-eb30-4076-b306-c900a4ae07f8",
   "metadata": {},
   "outputs": [
    {
     "name": "stdout",
     "output_type": "stream",
     "text": [
      "the given email adress is a valid email adress\n"
     ]
    }
   ],
   "source": [
    "if '@gmail.com' in i:\n",
    "    print('the given email adress is a valid email adress')#if it is found it is a valid email adress"
   ]
  },
  {
   "cell_type": "code",
   "execution_count": 71,
   "id": "fffe177f-5b37-40ef-91e2-8f037dac157e",
   "metadata": {},
   "outputs": [
    {
     "data": {
      "text/plain": [
       "'yadavarmaan2004'"
      ]
     },
     "execution_count": 71,
     "metadata": {},
     "output_type": "execute_result"
    }
   ],
   "source": [
    "i[0:15]"
   ]
  },
  {
   "cell_type": "code",
   "execution_count": 72,
   "id": "77e5c6c5-2307-48cc-99ce-33d6a1489797",
   "metadata": {},
   "outputs": [
    {
     "data": {
      "text/plain": [
       "'@gmail.com'"
      ]
     },
     "execution_count": 72,
     "metadata": {},
     "output_type": "execute_result"
    }
   ],
   "source": [
    "i[15:25]"
   ]
  },
  {
   "cell_type": "code",
   "execution_count": 73,
   "id": "0151b3f0-a243-4e47-a09b-8058d43afa36",
   "metadata": {},
   "outputs": [],
   "source": [
    "j='a   r   m   a   a   n'"
   ]
  },
  {
   "cell_type": "code",
   "execution_count": 74,
   "id": "0da94a3e-10c3-4e69-8b65-f6a905486ea1",
   "metadata": {},
   "outputs": [
    {
     "data": {
      "text/plain": [
       "'a r m a a n'"
      ]
     },
     "execution_count": 74,
     "metadata": {},
     "output_type": "execute_result"
    }
   ],
   "source": [
    "j.replace('   ',' ')"
   ]
  },
  {
   "cell_type": "code",
   "execution_count": 75,
   "id": "0de255fb-1635-48cf-86bc-a4fffccbd3f3",
   "metadata": {},
   "outputs": [
    {
     "name": "stdout",
     "output_type": "stream",
     "text": [
      "the given url is valid\n"
     ]
    }
   ],
   "source": [
    "k='https://github.com/armaan1203/assigment_aug'\n",
    "\n",
    "\n",
    "if 'https:' in k:\n",
    "    print('the given url is valid')"
   ]
  },
  {
   "cell_type": "code",
   "execution_count": 76,
   "id": "74bdd6a3-94ff-480f-836c-710c31b0ee6a",
   "metadata": {},
   "outputs": [
    {
     "data": {
      "text/plain": [
       "'https'"
      ]
     },
     "execution_count": 76,
     "metadata": {},
     "output_type": "execute_result"
    }
   ],
   "source": [
    "k[0:5]"
   ]
  },
  {
   "cell_type": "code",
   "execution_count": 77,
   "id": "a3f91bb3-69ed-4625-8ab1-9646acd17609",
   "metadata": {},
   "outputs": [
    {
     "data": {
      "text/plain": [
       "1"
      ]
     },
     "execution_count": 77,
     "metadata": {},
     "output_type": "execute_result"
    }
   ],
   "source": [
    "k.count(':')"
   ]
  },
  {
   "cell_type": "code",
   "execution_count": 78,
   "id": "d5abc174-c822-4cb2-a235-fde70be8e2c5",
   "metadata": {},
   "outputs": [
    {
     "data": {
      "text/plain": [
       "4"
      ]
     },
     "execution_count": 78,
     "metadata": {},
     "output_type": "execute_result"
    }
   ],
   "source": [
    "k.count('/')"
   ]
  },
  {
   "cell_type": "code",
   "execution_count": 79,
   "id": "a9e37699-d959-4197-94e8-c3844e0d9060",
   "metadata": {},
   "outputs": [
    {
     "data": {
      "text/plain": [
       "1"
      ]
     },
     "execution_count": 79,
     "metadata": {},
     "output_type": "execute_result"
    }
   ],
   "source": [
    "k.count('_')"
   ]
  },
  {
   "cell_type": "code",
   "execution_count": 80,
   "id": "d0719491-00f0-4e9a-834d-6f4b89ab39d6",
   "metadata": {},
   "outputs": [
    {
     "data": {
      "text/plain": [
       "False"
      ]
     },
     "execution_count": 80,
     "metadata": {},
     "output_type": "execute_result"
    }
   ],
   "source": [
    "k.isdigit()"
   ]
  },
  {
   "cell_type": "code",
   "execution_count": 81,
   "id": "95938f82-2d60-42dd-806f-e6d7cd4ab96d",
   "metadata": {},
   "outputs": [
    {
     "data": {
      "text/plain": [
       "False"
      ]
     },
     "execution_count": 81,
     "metadata": {},
     "output_type": "execute_result"
    }
   ],
   "source": [
    "k.isalpha()"
   ]
  },
  {
   "cell_type": "code",
   "execution_count": 82,
   "id": "6022f179-1fb4-4462-97f0-63f10c322cc4",
   "metadata": {},
   "outputs": [],
   "source": [
    "a1='12345'"
   ]
  },
  {
   "cell_type": "code",
   "execution_count": 83,
   "id": "f21df38d-5cd7-4c1b-8ace-f0c0d55acf29",
   "metadata": {},
   "outputs": [],
   "source": [
    "a2='abcdefg'"
   ]
  },
  {
   "cell_type": "code",
   "execution_count": 84,
   "id": "ff797902-6c0d-4820-83f4-7abcfba06ef3",
   "metadata": {},
   "outputs": [
    {
     "data": {
      "text/plain": [
       "True"
      ]
     },
     "execution_count": 84,
     "metadata": {},
     "output_type": "execute_result"
    }
   ],
   "source": [
    "a1.isdigit()"
   ]
  },
  {
   "cell_type": "code",
   "execution_count": 85,
   "id": "e61a6ae9-bb25-4136-aeee-a3806e30def6",
   "metadata": {},
   "outputs": [
    {
     "data": {
      "text/plain": [
       "True"
      ]
     },
     "execution_count": 85,
     "metadata": {},
     "output_type": "execute_result"
    }
   ],
   "source": [
    "a2.isalpha()"
   ]
  },
  {
   "cell_type": "code",
   "execution_count": 86,
   "id": "6bb43ade-98cc-48fe-9bf5-dd69d05b7ffe",
   "metadata": {},
   "outputs": [
    {
     "data": {
      "text/plain": [
       "['a', 'b', 'c', 'd', 'e', 'f', 'g']"
      ]
     },
     "execution_count": 86,
     "metadata": {},
     "output_type": "execute_result"
    }
   ],
   "source": [
    "list(a2)"
   ]
  },
  {
   "cell_type": "code",
   "execution_count": 87,
   "id": "32cc0ba8-1a1e-4dd9-8f3f-b249605af60e",
   "metadata": {},
   "outputs": [
    {
     "name": "stdout",
     "output_type": "stream",
     "text": [
      "the given string is anagram\n"
     ]
    }
   ],
   "source": [
    "x1='listen'\n",
    "x2='silent'\n",
    "\n",
    "if (x1,x2):\n",
    "    print('the given string is anagram')\n",
    "else:\n",
    "    print('the given string is not a anagram')\n"
   ]
  },
  {
   "cell_type": "code",
   "execution_count": 88,
   "id": "dd442473-1f01-42bb-8915-42d56d7763c5",
   "metadata": {},
   "outputs": [
    {
     "name": "stdout",
     "output_type": "stream",
     "text": [
      "original text:hello world\n",
      "encrypted text:('hello world', 3)\n"
     ]
    }
   ],
   "source": [
    "k1='hello world'\n",
    "k2 = 3\n",
    "\n",
    "k11=(k1,k2)\n",
    "print(f'original text:{k1}')\n",
    "print(f'encrypted text:{k11}')"
   ]
  },
  {
   "cell_type": "code",
   "execution_count": 89,
   "id": "8e820f55-021f-4697-8dc3-78a80aef2081",
   "metadata": {},
   "outputs": [
    {
     "name": "stdout",
     "output_type": "stream",
     "text": [
      "highest frequency is my\n"
     ]
    }
   ],
   "source": [
    "z1='my name is my name my '\n",
    "\n",
    "if z1.count('my')>z1.count('is') and z1.count('my') >z1.count('name'):\n",
    "    print('highest frequency is my')\n",
    "elif z1.count('is')>z1.count('my') and z1.count('is') >z1.count('name'):\n",
    "    print('highest frequency is is')\n",
    "else:\n",
    "    print('higest frequency is name')"
   ]
  },
  {
   "cell_type": "code",
   "execution_count": 90,
   "id": "22c9768b-be83-4ec2-8f30-87b002eb4fc6",
   "metadata": {},
   "outputs": [
    {
     "data": {
      "text/plain": [
       "{' ',\n",
       " 'a',\n",
       " 'd',\n",
       " 'e',\n",
       " 'f',\n",
       " 'g',\n",
       " 'h',\n",
       " 'i',\n",
       " 'k',\n",
       " 'l',\n",
       " 'n',\n",
       " 'o',\n",
       " 'p',\n",
       " 'r',\n",
       " 's',\n",
       " 't',\n",
       " 'u'}"
      ]
     },
     "execution_count": 90,
     "metadata": {},
     "output_type": "execute_result"
    }
   ],
   "source": [
    "set(f) #unique words can get by converting it to set"
   ]
  },
  {
   "cell_type": "code",
   "execution_count": 91,
   "id": "dccb9faa-0e10-43ff-b815-f4148dd82ac4",
   "metadata": {},
   "outputs": [
    {
     "name": "stdout",
     "output_type": "stream",
     "text": [
      "the string contains special character\n"
     ]
    }
   ],
   "source": [
    "if '@' in i:\n",
    "    print('the string contains special character')\n",
    "else:\n",
    "    print('the string dosent contain special character')"
   ]
  },
  {
   "cell_type": "code",
   "execution_count": 92,
   "id": "f01660e8-fd25-4b4a-af34-d20cc1d9321f",
   "metadata": {},
   "outputs": [
    {
     "data": {
      "text/plain": [
       "'a   r   m   a   a   n'"
      ]
     },
     "execution_count": 92,
     "metadata": {},
     "output_type": "execute_result"
    }
   ],
   "source": [
    "j"
   ]
  },
  {
   "cell_type": "code",
   "execution_count": 93,
   "id": "b820c130-a5cd-47cc-b263-e258128dd5bd",
   "metadata": {},
   "outputs": [
    {
     "data": {
      "text/plain": [
       "'a   r   m   a   a   '"
      ]
     },
     "execution_count": 93,
     "metadata": {},
     "output_type": "execute_result"
    }
   ],
   "source": [
    "j.removesuffix('n')"
   ]
  },
  {
   "cell_type": "code",
   "execution_count": 94,
   "id": "3c977a23-986d-489e-a69a-040dc0e49fe0",
   "metadata": {},
   "outputs": [
    {
     "data": {
      "text/plain": [
       "'a   r   m   a   a   p'"
      ]
     },
     "execution_count": 94,
     "metadata": {},
     "output_type": "execute_result"
    }
   ],
   "source": [
    "j.replace('n','p')"
   ]
  },
  {
   "cell_type": "code",
   "execution_count": 95,
   "id": "385c4040-2208-410f-9dc9-d6830e4fb912",
   "metadata": {},
   "outputs": [],
   "source": [
    "x='my,name,is,armaan'"
   ]
  },
  {
   "cell_type": "code",
   "execution_count": 96,
   "id": "56488e40-b7f0-476a-87e7-27aea01ae4bf",
   "metadata": {},
   "outputs": [
    {
     "data": {
      "text/plain": [
       "['my', 'name', 'is', 'armaan']"
      ]
     },
     "execution_count": 96,
     "metadata": {},
     "output_type": "execute_result"
    }
   ],
   "source": [
    "x.split(',')"
   ]
  },
  {
   "cell_type": "code",
   "execution_count": 97,
   "id": "b868a7fd-8890-47cf-b120-6d55aec862d2",
   "metadata": {},
   "outputs": [],
   "source": [
    "#list based questions solution"
   ]
  },
  {
   "cell_type": "code",
   "execution_count": 98,
   "id": "0fe8f4bc-9c57-4f72-803e-1193d0f278d3",
   "metadata": {},
   "outputs": [],
   "source": [
    "l=[1,2,3,4,5,6,7,8,9,10]"
   ]
  },
  {
   "cell_type": "code",
   "execution_count": 99,
   "id": "90057a32-4985-4a37-8149-b73f28553ec8",
   "metadata": {},
   "outputs": [
    {
     "data": {
      "text/plain": [
       "[1, 2, 3, 4, 5, 6, 7, 8, 9, 10]"
      ]
     },
     "execution_count": 99,
     "metadata": {},
     "output_type": "execute_result"
    }
   ],
   "source": [
    "l"
   ]
  },
  {
   "cell_type": "code",
   "execution_count": 100,
   "id": "52ad13ad-9384-4ec1-9dab-965384a19fd3",
   "metadata": {},
   "outputs": [
    {
     "data": {
      "text/plain": [
       "10"
      ]
     },
     "execution_count": 100,
     "metadata": {},
     "output_type": "execute_result"
    }
   ],
   "source": [
    "l.index(10)+1"
   ]
  },
  {
   "cell_type": "code",
   "execution_count": 101,
   "id": "6f87646a-e47d-4c8f-a530-4791d53b05e0",
   "metadata": {},
   "outputs": [],
   "source": [
    "l.append(11)"
   ]
  },
  {
   "cell_type": "code",
   "execution_count": 102,
   "id": "d6ecd366-cc61-476b-82ae-ebdbddbdfa45",
   "metadata": {},
   "outputs": [
    {
     "data": {
      "text/plain": [
       "[1, 2, 3, 4, 5, 6, 7, 8, 9, 10, 11]"
      ]
     },
     "execution_count": 102,
     "metadata": {},
     "output_type": "execute_result"
    }
   ],
   "source": [
    "l"
   ]
  },
  {
   "cell_type": "code",
   "execution_count": 103,
   "id": "665533f1-947d-42b3-8644-d1ec7e164b27",
   "metadata": {},
   "outputs": [],
   "source": [
    "l.insert(2,8)"
   ]
  },
  {
   "cell_type": "code",
   "execution_count": 104,
   "id": "9737f97f-49cf-4799-9439-b0de92eaa4a9",
   "metadata": {},
   "outputs": [
    {
     "data": {
      "text/plain": [
       "[1, 2, 8, 3, 4, 5, 6, 7, 8, 9, 10, 11]"
      ]
     },
     "execution_count": 104,
     "metadata": {},
     "output_type": "execute_result"
    }
   ],
   "source": [
    "l"
   ]
  },
  {
   "cell_type": "code",
   "execution_count": 105,
   "id": "62aa4051-b6c8-48ba-ba58-766f5e1ecaa3",
   "metadata": {},
   "outputs": [],
   "source": [
    "l.remove(8)"
   ]
  },
  {
   "cell_type": "code",
   "execution_count": 106,
   "id": "94004de1-9c3a-4c3e-aa37-42f5cb8fc5ff",
   "metadata": {},
   "outputs": [
    {
     "data": {
      "text/plain": [
       "[1, 2, 3, 4, 5, 6, 7, 8, 9, 10, 11]"
      ]
     },
     "execution_count": 106,
     "metadata": {},
     "output_type": "execute_result"
    }
   ],
   "source": [
    "l"
   ]
  },
  {
   "cell_type": "code",
   "execution_count": 107,
   "id": "3f720730-4f13-4e90-851c-1afa9a84c5b6",
   "metadata": {},
   "outputs": [
    {
     "data": {
      "text/plain": [
       "4"
      ]
     },
     "execution_count": 107,
     "metadata": {},
     "output_type": "execute_result"
    }
   ],
   "source": [
    "l.pop(3)"
   ]
  },
  {
   "cell_type": "code",
   "execution_count": 108,
   "id": "b0debfeb-e14c-4b22-bf1a-b1fad37fb889",
   "metadata": {},
   "outputs": [
    {
     "data": {
      "text/plain": [
       "[1, 2, 3, 5, 6, 7, 8, 9, 10, 11]"
      ]
     },
     "execution_count": 108,
     "metadata": {},
     "output_type": "execute_result"
    }
   ],
   "source": [
    "l"
   ]
  },
  {
   "cell_type": "code",
   "execution_count": 109,
   "id": "ab3d0f59-4804-46cd-900f-e1caf6418db3",
   "metadata": {},
   "outputs": [
    {
     "name": "stdout",
     "output_type": "stream",
     "text": [
      "the element doesnt exit in list\n"
     ]
    }
   ],
   "source": [
    "if 45 in l:\n",
    "    print('the element exist in the list')\n",
    "else:\n",
    "    print('the element doesnt exit in list')"
   ]
  },
  {
   "cell_type": "code",
   "execution_count": 110,
   "id": "72f80220-f487-44e9-ae6c-a3c2a5710718",
   "metadata": {},
   "outputs": [
    {
     "data": {
      "text/plain": [
       "4"
      ]
     },
     "execution_count": 110,
     "metadata": {},
     "output_type": "execute_result"
    }
   ],
   "source": [
    "l.index(6)"
   ]
  },
  {
   "cell_type": "code",
   "execution_count": 111,
   "id": "1c0349f4-0ba6-4d42-9d55-32c9db92e573",
   "metadata": {},
   "outputs": [],
   "source": [
    "l1=[1,2,3,45,1,2,3,45,5,6,8]"
   ]
  },
  {
   "cell_type": "code",
   "execution_count": 112,
   "id": "bd214d4c-3ea8-4aac-8018-977ed6dba19b",
   "metadata": {},
   "outputs": [
    {
     "data": {
      "text/plain": [
       "3"
      ]
     },
     "execution_count": 112,
     "metadata": {},
     "output_type": "execute_result"
    }
   ],
   "source": [
    "l1.index(45)"
   ]
  },
  {
   "cell_type": "code",
   "execution_count": 113,
   "id": "0adaa8c4-db73-4365-9f99-6c1a4c8697c8",
   "metadata": {},
   "outputs": [
    {
     "data": {
      "text/plain": [
       "2"
      ]
     },
     "execution_count": 113,
     "metadata": {},
     "output_type": "execute_result"
    }
   ],
   "source": [
    "l1.count(3)"
   ]
  },
  {
   "cell_type": "code",
   "execution_count": 114,
   "id": "33867a71-9cdd-4b44-bfa7-cdc13b8d2396",
   "metadata": {},
   "outputs": [],
   "source": [
    "l1.reverse()"
   ]
  },
  {
   "cell_type": "code",
   "execution_count": 115,
   "id": "da5c93a5-fa05-4012-b0e3-f54a4ecfc5ea",
   "metadata": {},
   "outputs": [
    {
     "data": {
      "text/plain": [
       "[8, 6, 5, 45, 3, 2, 1, 45, 3, 2, 1]"
      ]
     },
     "execution_count": 115,
     "metadata": {},
     "output_type": "execute_result"
    }
   ],
   "source": [
    "l1"
   ]
  },
  {
   "cell_type": "code",
   "execution_count": 116,
   "id": "6d2b5932-1272-48e5-8079-feec2930d4b5",
   "metadata": {},
   "outputs": [],
   "source": [
    "l1.sort()"
   ]
  },
  {
   "cell_type": "code",
   "execution_count": 117,
   "id": "4d3a93c5-c7dc-471e-b1ee-05715a29c194",
   "metadata": {},
   "outputs": [
    {
     "data": {
      "text/plain": [
       "[1, 1, 2, 2, 3, 3, 5, 6, 8, 45, 45]"
      ]
     },
     "execution_count": 117,
     "metadata": {},
     "output_type": "execute_result"
    }
   ],
   "source": [
    "l1"
   ]
  },
  {
   "cell_type": "code",
   "execution_count": 118,
   "id": "18012075-44c5-4242-8613-a44b1125d06d",
   "metadata": {},
   "outputs": [],
   "source": [
    "l1.reverse()"
   ]
  },
  {
   "cell_type": "code",
   "execution_count": 119,
   "id": "b8fc7ea9-3a56-46b5-9b04-fbdb7f9e6d34",
   "metadata": {},
   "outputs": [
    {
     "data": {
      "text/plain": [
       "[45, 45, 8, 6, 5, 3, 3, 2, 2, 1, 1]"
      ]
     },
     "execution_count": 119,
     "metadata": {},
     "output_type": "execute_result"
    }
   ],
   "source": [
    "l1"
   ]
  },
  {
   "cell_type": "code",
   "execution_count": 120,
   "id": "2abe0aab-ec30-448b-9bc8-ac9ffefc429a",
   "metadata": {},
   "outputs": [],
   "source": [
    "def even_number():\n",
    "    for i in range(21):\n",
    "        if i%2==0:\n",
    "            print(i,end=' ')\n",
    "            "
   ]
  },
  {
   "cell_type": "code",
   "execution_count": 121,
   "id": "4b181e86-01da-42b1-aa1e-69c2b669ca41",
   "metadata": {},
   "outputs": [
    {
     "name": "stdout",
     "output_type": "stream",
     "text": [
      "0 2 4 6 8 10 12 14 16 18 20 "
     ]
    }
   ],
   "source": [
    "x=even_number()"
   ]
  },
  {
   "cell_type": "code",
   "execution_count": 122,
   "id": "7d8ae735-1e4a-4660-bee2-271f8d6c820e",
   "metadata": {},
   "outputs": [],
   "source": [
    "def odd_number():\n",
    "    for i in range(21):\n",
    "        if i%2==0:\n",
    "            print(i+1,end=' ')\n",
    "        "
   ]
  },
  {
   "cell_type": "code",
   "execution_count": 123,
   "id": "b28b9e87-d55f-47fc-8a6c-cf6a13c8cd11",
   "metadata": {},
   "outputs": [
    {
     "name": "stdout",
     "output_type": "stream",
     "text": [
      "1 3 5 7 9 11 13 15 17 19 21 "
     ]
    }
   ],
   "source": [
    "odd_number()"
   ]
  },
  {
   "cell_type": "code",
   "execution_count": 124,
   "id": "1fb535d5-2513-4c83-9d02-cfd1dd08c338",
   "metadata": {},
   "outputs": [
    {
     "name": "stdout",
     "output_type": "stream",
     "text": [
      "42\n"
     ]
    }
   ],
   "source": [
    "l2=[1,2,3,4,5,2,3,4,5,6,7]\n",
    "print(l2[0]+l2[1]+l2[2]+l2[3]+l2[4]+l2[5]+l2[6]+l2[7]+l2[8]+l2[9]+l2[10])#addition of all elemnents in l2"
   ]
  },
  {
   "cell_type": "code",
   "execution_count": 134,
   "id": "f9c75a89-e560-4fe7-8ef2-d8a3e9c2b534",
   "metadata": {},
   "outputs": [
    {
     "data": {
      "text/plain": [
       "[45, 45, 8, 6, 5, 3, 3, 2, 2, 1, 1]"
      ]
     },
     "execution_count": 134,
     "metadata": {},
     "output_type": "execute_result"
    }
   ],
   "source": [
    "l1"
   ]
  },
  {
   "cell_type": "code",
   "execution_count": 135,
   "id": "f3a92973-6f0d-4a4d-8841-f2aa46a8b2fc",
   "metadata": {},
   "outputs": [],
   "source": [
    "l1.sort()#as sort function arrange the list in ascending order the last element is the maximum value and value at 0th index is the minimum value"
   ]
  },
  {
   "cell_type": "code",
   "execution_count": 136,
   "id": "e2aa8543-5d4e-423e-a59c-ae12b0a739fc",
   "metadata": {},
   "outputs": [
    {
     "data": {
      "text/plain": [
       "45"
      ]
     },
     "execution_count": 136,
     "metadata": {},
     "output_type": "execute_result"
    }
   ],
   "source": [
    "l1[10]  #maximum value"
   ]
  },
  {
   "cell_type": "code",
   "execution_count": 137,
   "id": "b145f334-172f-4f63-ae8a-7928e0cdcbf8",
   "metadata": {},
   "outputs": [
    {
     "data": {
      "text/plain": [
       "1"
      ]
     },
     "execution_count": 137,
     "metadata": {},
     "output_type": "execute_result"
    }
   ],
   "source": [
    "l1[0]  #minimum value"
   ]
  },
  {
   "cell_type": "code",
   "execution_count": 18,
   "id": "005b79f3-5e8a-4756-8670-a039d098d7e7",
   "metadata": {},
   "outputs": [
    {
     "name": "stdout",
     "output_type": "stream",
     "text": [
      "0\n",
      "1\n",
      "4\n",
      "9\n",
      "16\n",
      "25\n",
      "36\n",
      "49\n",
      "64\n",
      "81\n",
      "100\n"
     ]
    }
   ],
   "source": [
    "for i in range(11):\n",
    "    if i<21:\n",
    "        print(i*i)\n",
    "    else:\n",
    "        print('the square is not possible')"
   ]
  },
  {
   "cell_type": "code",
   "execution_count": 146,
   "id": "669b4581-a9e1-43cf-9377-58a8e27d3aff",
   "metadata": {},
   "outputs": [],
   "source": [
    "l3=[1,2,3,2,2,4,8,2,4,6,8,4,5,7,8,9,0]\n",
    "l4=[3,4,5,2,3,4,5,6,7,8,9,0,7,5]"
   ]
  },
  {
   "cell_type": "code",
   "execution_count": 147,
   "id": "17328ea9-9f20-4396-b3fd-a92c8657c225",
   "metadata": {},
   "outputs": [
    {
     "data": {
      "text/plain": [
       "[0, 2, 3, 4, 5, 6, 7, 8, 9]"
      ]
     },
     "execution_count": 147,
     "metadata": {},
     "output_type": "execute_result"
    }
   ],
   "source": [
    "list(set(l3)&set(l4)) #common elements in l3 and l4"
   ]
  },
  {
   "cell_type": "code",
   "execution_count": 148,
   "id": "15f5ec26-037b-485e-be34-45908ec29384",
   "metadata": {},
   "outputs": [
    {
     "data": {
      "text/plain": [
       "[1]"
      ]
     },
     "execution_count": 148,
     "metadata": {},
     "output_type": "execute_result"
    }
   ],
   "source": [
    "list(set(l3)-set(l4)) #diffrence between two list"
   ]
  },
  {
   "cell_type": "code",
   "execution_count": 149,
   "id": "a2b45381-df0b-47a8-ada6-6ddcd286cda7",
   "metadata": {},
   "outputs": [
    {
     "name": "stdout",
     "output_type": "stream",
     "text": [
      "[1, 2, 3, 2, 2, 4, 8, 2, 4, 6, 8, 4, 5, 7, 8, 9, 0, 3, 4, 5, 2, 3, 4, 5, 6, 7, 8, 9, 0, 7, 5] "
     ]
    }
   ],
   "source": [
    "print(l3+l4,end=' ') #merg of to list"
   ]
  },
  {
   "cell_type": "code",
   "execution_count": 150,
   "id": "65787cf6-03ac-4a1f-9236-ccb8374c31df",
   "metadata": {},
   "outputs": [
    {
     "data": {
      "text/plain": [
       "[2, 4, 6, 4, 4, 8, 16, 4, 8, 12]"
      ]
     },
     "execution_count": 150,
     "metadata": {},
     "output_type": "execute_result"
    }
   ],
   "source": [
    "[l3[0]*2,l3[1]*2,l3[2]*2,l3[3]*2,l3[4]*2,l3[5]*2,l3[6]*2,l3[7]*2,l3[8]*2,l3[9]*2]"
   ]
  },
  {
   "cell_type": "code",
   "execution_count": 151,
   "id": "c5f19818-3c20-4c2f-8231-b1afa5776579",
   "metadata": {},
   "outputs": [
    {
     "name": "stdout",
     "output_type": "stream",
     "text": [
      "2 4 6 8 10 12 14 16 18 20 "
     ]
    }
   ],
   "source": [
    "l5=[1,2,3,4,5,6,7,8,9,10,11,12,13,14,15,16,17,18,19,20]\n",
    "\n",
    "for i in l5:\n",
    "    if i%2==0:\n",
    "        print(i,end=' ')"
   ]
  },
  {
   "cell_type": "code",
   "execution_count": 152,
   "id": "dd6408b1-dd13-4bbd-a31f-24f86fd58df6",
   "metadata": {},
   "outputs": [],
   "source": [
    "l6=['1','2','3','4']"
   ]
  },
  {
   "cell_type": "code",
   "execution_count": 153,
   "id": "ec431780-34f4-46e0-a876-33390e1776ab",
   "metadata": {},
   "outputs": [],
   "source": [
    "l6[0]=1"
   ]
  },
  {
   "cell_type": "code",
   "execution_count": 154,
   "id": "cb818132-f41b-428f-9b47-cd949bfa784e",
   "metadata": {},
   "outputs": [],
   "source": [
    "l6[1]=2"
   ]
  },
  {
   "cell_type": "code",
   "execution_count": 155,
   "id": "95da6113-8d72-4fc5-ac8b-bf5b3e676c87",
   "metadata": {},
   "outputs": [],
   "source": [
    "l6[2]=3"
   ]
  },
  {
   "cell_type": "code",
   "execution_count": 156,
   "id": "09ffe1a3-d867-4f1c-941d-26cadff400eb",
   "metadata": {},
   "outputs": [],
   "source": [
    "l6[3]=4"
   ]
  },
  {
   "cell_type": "code",
   "execution_count": 157,
   "id": "6632396e-cca2-44b0-a9f2-642a8a1c5b3d",
   "metadata": {},
   "outputs": [
    {
     "data": {
      "text/plain": [
       "[1, 2, 3, 4]"
      ]
     },
     "execution_count": 157,
     "metadata": {},
     "output_type": "execute_result"
    }
   ],
   "source": [
    "l6"
   ]
  },
  {
   "cell_type": "code",
   "execution_count": 158,
   "id": "69371dc7-05b5-405b-901f-85432c8f63fd",
   "metadata": {},
   "outputs": [],
   "source": [
    "l6[0]='1'"
   ]
  },
  {
   "cell_type": "code",
   "execution_count": 159,
   "id": "38241f7d-f65f-45b4-9d1b-107be8f9a252",
   "metadata": {},
   "outputs": [],
   "source": [
    "l6[1]='2'"
   ]
  },
  {
   "cell_type": "code",
   "execution_count": 160,
   "id": "3fb689f4-35e7-4cf8-acef-1e307851a3a9",
   "metadata": {},
   "outputs": [],
   "source": [
    "l6[2]='3'"
   ]
  },
  {
   "cell_type": "code",
   "execution_count": 161,
   "id": "d2c90ede-b710-4728-a350-eae3a3db3ece",
   "metadata": {},
   "outputs": [],
   "source": [
    "l6[3]='4'"
   ]
  },
  {
   "cell_type": "code",
   "execution_count": 162,
   "id": "da31f39d-2dd5-4d33-bdb0-adbbf48dd45b",
   "metadata": {},
   "outputs": [
    {
     "data": {
      "text/plain": [
       "['1', '2', '3', '4']"
      ]
     },
     "execution_count": 162,
     "metadata": {},
     "output_type": "execute_result"
    }
   ],
   "source": [
    "l6"
   ]
  },
  {
   "cell_type": "code",
   "execution_count": 163,
   "id": "9018b96a-354d-4189-bb87-0c8cedb7721b",
   "metadata": {},
   "outputs": [
    {
     "data": {
      "text/plain": [
       "['1', '2', '3', '4']"
      ]
     },
     "execution_count": 163,
     "metadata": {},
     "output_type": "execute_result"
    }
   ],
   "source": [
    "l6"
   ]
  },
  {
   "cell_type": "code",
   "execution_count": 171,
   "id": "bb08c7f2-a166-4fbe-9aae-19f85b803ae2",
   "metadata": {},
   "outputs": [],
   "source": [
    "def fibbonaci(n):\n",
    "    n1=[0,1]\n",
    "    while len(n1)<n:\n",
    "        n1.append(n1[-1]+n1[-2])\n",
    "    return n1"
   ]
  },
  {
   "cell_type": "code",
   "execution_count": 172,
   "id": "aa987780-38f4-414e-a5d6-de0ec87490f3",
   "metadata": {},
   "outputs": [
    {
     "data": {
      "text/plain": [
       "[0, 1, 1, 2, 3, 5, 8, 13, 21, 34]"
      ]
     },
     "execution_count": 172,
     "metadata": {},
     "output_type": "execute_result"
    }
   ],
   "source": [
    "fibbonaci(10)"
   ]
  },
  {
   "cell_type": "code",
   "execution_count": 176,
   "id": "6913b8c5-ef76-475a-a631-39e50e606694",
   "metadata": {},
   "outputs": [
    {
     "name": "stdout",
     "output_type": "stream",
     "text": [
      "the list is not sorted\n"
     ]
    }
   ],
   "source": [
    "l8=[2,3,4,5,6,7,8]\n",
    "\n",
    "if l8==l8.sort():\n",
    "    print('the list is sorted')\n",
    "else:\n",
    "    print('the list is not sorted')"
   ]
  },
  {
   "cell_type": "code",
   "execution_count": 177,
   "id": "e8b52f66-370b-42cd-a9c3-0895538662a7",
   "metadata": {},
   "outputs": [
    {
     "data": {
      "text/plain": [
       "[2, 3, 4, 5, 6, 7, 8]"
      ]
     },
     "execution_count": 177,
     "metadata": {},
     "output_type": "execute_result"
    }
   ],
   "source": [
    "l8"
   ]
  },
  {
   "cell_type": "code",
   "execution_count": 13,
   "id": "d4a2ff5e-53e9-4f81-8019-3ea585384294",
   "metadata": {},
   "outputs": [],
   "source": [
    "l1=[1,2,3,4,5,6]\n",
    "def list_rotate(l1,n):\n",
    "    return l1[n:]+l1[:n]"
   ]
  },
  {
   "cell_type": "code",
   "execution_count": 14,
   "id": "2ddf743c-aa0a-4ffb-897b-ebe75ca3d55e",
   "metadata": {},
   "outputs": [
    {
     "data": {
      "text/plain": [
       "[3, 4, 5, 6, 1, 2]"
      ]
     },
     "execution_count": 14,
     "metadata": {},
     "output_type": "execute_result"
    }
   ],
   "source": [
    "list_rotate(l1,2)"
   ]
  },
  {
   "cell_type": "code",
   "execution_count": 15,
   "id": "1907b0fa-a710-4d7a-985e-5973d2ba3456",
   "metadata": {},
   "outputs": [],
   "source": [
    "l2=[1,2,3,4,5,6]\n",
    "def list_rotate_right():\n",
    "    return l2[-2:]+l2[:-2]"
   ]
  },
  {
   "cell_type": "code",
   "execution_count": 16,
   "id": "5f0dba85-dcdb-4b56-9b45-c2cbbf45ce1d",
   "metadata": {},
   "outputs": [
    {
     "data": {
      "text/plain": [
       "[5, 6, 1, 2, 3, 4]"
      ]
     },
     "execution_count": 16,
     "metadata": {},
     "output_type": "execute_result"
    }
   ],
   "source": [
    "list_rotate_right()"
   ]
  },
  {
   "cell_type": "code",
   "execution_count": 26,
   "id": "361ed0f1-bfab-44b0-867b-c23a2fbca83a",
   "metadata": {},
   "outputs": [],
   "source": [
    "def prime_no():\n",
    "    for i in range(1,51):\n",
    "        if i%2!=0:\n",
    "            print(i,end=',')\n",
    "    "
   ]
  },
  {
   "cell_type": "code",
   "execution_count": 27,
   "id": "dd7656f0-e9a6-41fd-a6c0-0e5f1a63fa32",
   "metadata": {},
   "outputs": [
    {
     "name": "stdout",
     "output_type": "stream",
     "text": [
      "1,3,5,7,9,11,13,15,17,19,21,23,25,27,29,31,33,35,37,39,41,43,45,47,49,"
     ]
    }
   ],
   "source": [
    "prime_no()"
   ]
  },
  {
   "cell_type": "code",
   "execution_count": 43,
   "id": "6f00b7fa-0242-4a6f-a23b-d752f94663a8",
   "metadata": {},
   "outputs": [
    {
     "name": "stdout",
     "output_type": "stream",
     "text": [
      "second largest number is 32\n"
     ]
    }
   ],
   "source": [
    "l4=[23,32,34]\n",
    "\n",
    "if l4[0]>l4[1] and l4[0]<l4[2]:\n",
    "    print('first largest number is 23')\n",
    "elif l4[1]>l4[0] and l4[1]<l4[2]:\n",
    "    print('second largest number is 32')\n",
    "else:\n",
    "    print('third largest number is 34')"
   ]
  },
  {
   "cell_type": "code",
   "execution_count": 64,
   "id": "84297dbc-474c-4d67-a8db-dd8ca6c6c9cb",
   "metadata": {},
   "outputs": [
    {
     "name": "stdout",
     "output_type": "stream",
     "text": [
      "4,9,16,25,36,"
     ]
    }
   ],
   "source": [
    "l5=[2,3,4,5,6]\n",
    "for i in l5:\n",
    "    print(+i**2,end=',')"
   ]
  },
  {
   "cell_type": "code",
   "execution_count": 71,
   "id": "9e80c411-05e7-45fc-88b5-a75e64afd303",
   "metadata": {},
   "outputs": [
    {
     "data": {
      "text/plain": [
       "{'a': 0, 'b': 1, 'c': 2}"
      ]
     },
     "execution_count": 71,
     "metadata": {},
     "output_type": "execute_result"
    }
   ],
   "source": [
    "l6=['a','b','c']\n",
    "dict((value, index) for index, value in enumerate(l6))"
   ]
  },
  {
   "cell_type": "code",
   "execution_count": 72,
   "id": "15c47340-988d-4a2a-b9a4-69f1e24a3aab",
   "metadata": {},
   "outputs": [],
   "source": [
    "l7=[1,2,3,4,56,7,8,9]\n",
    "\n",
    "l7[2]=l7[6]"
   ]
  },
  {
   "cell_type": "code",
   "execution_count": 73,
   "id": "0f5ff74b-235e-427b-b351-0218161e3d41",
   "metadata": {},
   "outputs": [
    {
     "data": {
      "text/plain": [
       "[1, 2, 8, 4, 56, 7, 8, 9]"
      ]
     },
     "execution_count": 73,
     "metadata": {},
     "output_type": "execute_result"
    }
   ],
   "source": [
    "l7"
   ]
  },
  {
   "cell_type": "code",
   "execution_count": 79,
   "id": "cd574297-0f16-4a3d-9103-425101c34ac0",
   "metadata": {},
   "outputs": [
    {
     "name": "stdout",
     "output_type": "stream",
     "text": [
      "1\n",
      "1\n",
      "2\n",
      "6\n",
      "12\n",
      "20\n",
      "30\n",
      "42\n",
      "56\n",
      "72\n"
     ]
    }
   ],
   "source": [
    "for i in range(10):\n",
    "    if i==0 or i==1:\n",
    "        print (1)\n",
    "    else:\n",
    "        print(i*(i-1))"
   ]
  },
  {
   "cell_type": "code",
   "execution_count": 80,
   "id": "35dfc912-5000-4dbf-8644-12daae9b6489",
   "metadata": {},
   "outputs": [],
   "source": [
    "l8=[1,2,3,4,5]\n",
    "l9=[5,6,7,8,9]"
   ]
  },
  {
   "cell_type": "code",
   "execution_count": 82,
   "id": "b3416182-733f-44a7-bd15-83d028edd166",
   "metadata": {},
   "outputs": [
    {
     "name": "stdout",
     "output_type": "stream",
     "text": [
      "the two list have one comman element\n"
     ]
    }
   ],
   "source": [
    "if 5 in l9 and 5 in l8:\n",
    "    print('the two list have one comman element')\n",
    "else:\n",
    "    print('the two list have no comman element')"
   ]
  },
  {
   "cell_type": "code",
   "execution_count": 83,
   "id": "9be62288-c058-41f7-954b-93cef3a938ed",
   "metadata": {},
   "outputs": [],
   "source": [
    "l8.clear()"
   ]
  },
  {
   "cell_type": "code",
   "execution_count": 84,
   "id": "654b0717-0646-4a03-945e-64c24bf347cf",
   "metadata": {},
   "outputs": [
    {
     "data": {
      "text/plain": [
       "[]"
      ]
     },
     "execution_count": 84,
     "metadata": {},
     "output_type": "execute_result"
    }
   ],
   "source": [
    "l8"
   ]
  },
  {
   "cell_type": "code",
   "execution_count": 8,
   "id": "31ebd092-bd7f-4d55-8383-4b412248cdc5",
   "metadata": {},
   "outputs": [],
   "source": [
    "l9=[-1,-2,3,4,5,-5]\n",
    "def replace():\n",
    "    for i in range(len(l9)):\n",
    "        if l9[i]<0:\n",
    "            l9[i]=0\n",
    "        return l9\n",
    "        "
   ]
  },
  {
   "cell_type": "code",
   "execution_count": 9,
   "id": "53a9ae4f-0bf9-4ed0-96e3-23e277f584ec",
   "metadata": {},
   "outputs": [
    {
     "data": {
      "text/plain": [
       "[0, -2, 3, 4, 5, -5]"
      ]
     },
     "execution_count": 9,
     "metadata": {},
     "output_type": "execute_result"
    }
   ],
   "source": [
    "replace()"
   ]
  },
  {
   "cell_type": "code",
   "execution_count": 116,
   "id": "6f7eda57-4a61-40c8-ba8d-b4eb3159a270",
   "metadata": {},
   "outputs": [],
   "source": [
    "l8='i love coding i python'"
   ]
  },
  {
   "cell_type": "code",
   "execution_count": 117,
   "id": "ba2276ae-1511-46be-bb49-9984a05f4f51",
   "metadata": {},
   "outputs": [
    {
     "data": {
      "text/plain": [
       "['i', 'love', 'coding', 'i', 'python']"
      ]
     },
     "execution_count": 117,
     "metadata": {},
     "output_type": "execute_result"
    }
   ],
   "source": [
    "l8.split(' ')"
   ]
  },
  {
   "cell_type": "code",
   "execution_count": 16,
   "id": "3f61acb6-3773-4a9e-a352-34d4b9ed83a9",
   "metadata": {},
   "outputs": [
    {
     "name": "stdout",
     "output_type": "stream",
     "text": [
      "1\n",
      "2\n",
      "4\n",
      "8\n",
      "16\n",
      "32\n",
      "64\n",
      "128\n",
      "256\n",
      "512\n"
     ]
    }
   ],
   "source": [
    "for i in range(10):\n",
    "    print(2**i)"
   ]
  },
  {
   "cell_type": "code",
   "execution_count": 20,
   "id": "80d2545e-0256-4492-9675-83f3d755b19f",
   "metadata": {},
   "outputs": [
    {
     "name": "stdout",
     "output_type": "stream",
     "text": [
      "the lonest string is python\n"
     ]
    }
   ],
   "source": [
    "l9=['i', 'love', 'python']\n",
    " \n",
    "if len(l9[0])>len(l9[1]) and len(l9[0])>len(l9[2]):\n",
    "    print('the longest string is',l9[0])\n",
    "elif len(l9[1])>len(l9[0]) and len(l9[1])>len(l9[2]):\n",
    "    print('the longest string is',l9[1])\n",
    "else:\n",
    "    print('the lonest string is',l9[2])\n",
    "            "
   ]
  },
  {
   "cell_type": "code",
   "execution_count": 21,
   "id": "adef99ee-8e18-477c-be59-de7a86088217",
   "metadata": {},
   "outputs": [
    {
     "name": "stdout",
     "output_type": "stream",
     "text": [
      "the shortest string is i\n"
     ]
    }
   ],
   "source": [
    "if len(l9[0])<len(l9[1]) and len(l9[0])<len(l9[2]):\n",
    "    print('the shortest string is',l9[0])\n",
    "elif len(l9[1])<len(l9[0]) and len(l9[1])<len(l9[2]):\n",
    "    print('the shortest string is',l9[1])\n",
    "else:\n",
    "    print('the shortest string is',l9[2])"
   ]
  },
  {
   "cell_type": "code",
   "execution_count": 24,
   "id": "c1b2b2c8-3698-49df-98ae-1775d8ab4bef",
   "metadata": {},
   "outputs": [
    {
     "name": "stdout",
     "output_type": "stream",
     "text": [
      "1\n",
      "4\n",
      "9\n",
      "16\n",
      "25\n",
      "36\n",
      "49\n",
      "64\n",
      "81\n",
      "100\n"
     ]
    }
   ],
   "source": [
    "for i in range(1,11):\n",
    "    print(i*i+1//2)"
   ]
  },
  {
   "cell_type": "code",
   "execution_count": 6,
   "id": "2b7c606a-d326-4d70-ad9e-d808c70fb695",
   "metadata": {},
   "outputs": [],
   "source": [
    "l10=[1,2,3,4,5,6,7]\n",
    "l11=[1,3,5,7]\n"
   ]
  },
  {
   "cell_type": "code",
   "execution_count": 13,
   "id": "8cda09b4-bd6e-452b-8b47-be29f6c2c46e",
   "metadata": {},
   "outputs": [
    {
     "name": "stdout",
     "output_type": "stream",
     "text": [
      "1,2,3,4,5,"
     ]
    }
   ],
   "source": [
    "for i in range(1,6):\n",
    "    print(i,end=',')"
   ]
  },
  {
   "cell_type": "code",
   "execution_count": 14,
   "id": "eab407b3-fa74-498a-8356-7e5f5444153f",
   "metadata": {},
   "outputs": [],
   "source": [
    "a=(1,2,3,4,5,6,7,8)"
   ]
  },
  {
   "cell_type": "code",
   "execution_count": 15,
   "id": "c799e123-325b-47a2-a143-a6d15930b3d4",
   "metadata": {},
   "outputs": [
    {
     "data": {
      "text/plain": [
       "3"
      ]
     },
     "execution_count": 15,
     "metadata": {},
     "output_type": "execute_result"
    }
   ],
   "source": [
    "a[2]"
   ]
  },
  {
   "cell_type": "code",
   "execution_count": 17,
   "id": "4b6e9b28-5184-4555-a6d8-b244aec0b9af",
   "metadata": {},
   "outputs": [
    {
     "data": {
      "text/plain": [
       "8"
      ]
     },
     "execution_count": 17,
     "metadata": {},
     "output_type": "execute_result"
    }
   ],
   "source": [
    "a.index(8)+1  #length of the tuple"
   ]
  },
  {
   "cell_type": "code",
   "execution_count": 18,
   "id": "2046ee1c-178d-4084-904e-6fd675024262",
   "metadata": {},
   "outputs": [],
   "source": [
    "a2=(1,2,3,4,5,3,4,5,6,8)"
   ]
  },
  {
   "cell_type": "code",
   "execution_count": 19,
   "id": "1d5fb7cf-52c5-4eda-89b5-205c4e579869",
   "metadata": {},
   "outputs": [
    {
     "data": {
      "text/plain": [
       "2"
      ]
     },
     "execution_count": 19,
     "metadata": {},
     "output_type": "execute_result"
    }
   ],
   "source": [
    "a2.count(3) #occurence of the element"
   ]
  },
  {
   "cell_type": "code",
   "execution_count": 20,
   "id": "4fffd3c6-7571-45fe-a586-99bfb700ea13",
   "metadata": {},
   "outputs": [
    {
     "data": {
      "text/plain": [
       "2"
      ]
     },
     "execution_count": 20,
     "metadata": {},
     "output_type": "execute_result"
    }
   ],
   "source": [
    "a2.index(3) #index of first occurence of element"
   ]
  },
  {
   "cell_type": "code",
   "execution_count": 26,
   "id": "6f86485c-1726-4a7e-820f-17427ca31899",
   "metadata": {},
   "outputs": [
    {
     "name": "stdout",
     "output_type": "stream",
     "text": [
      "the element exist in the tuple\n"
     ]
    }
   ],
   "source": [
    "i=1\n",
    "if i in a2:\n",
    "    print('the element exist in the tuple')\n",
    "else:\n",
    "    print('the element doesnt exist in element')"
   ]
  },
  {
   "cell_type": "code",
   "execution_count": 27,
   "id": "775b53cc-a50c-4c9c-bade-7691fa745e99",
   "metadata": {},
   "outputs": [
    {
     "data": {
      "text/plain": [
       "[1, 2, 3, 4, 5, 3, 4, 5, 6, 8]"
      ]
     },
     "execution_count": 27,
     "metadata": {},
     "output_type": "execute_result"
    }
   ],
   "source": [
    "list(a2) #conversion of tuple to list"
   ]
  },
  {
   "cell_type": "code",
   "execution_count": 28,
   "id": "399e87f5-3ee4-4d3c-a5a8-5f4b11ea9e77",
   "metadata": {},
   "outputs": [
    {
     "data": {
      "text/plain": [
       "(1, 2, 3, 4, 5)"
      ]
     },
     "execution_count": 28,
     "metadata": {},
     "output_type": "execute_result"
    }
   ],
   "source": [
    "a3=[1,2,3,4,5]\n",
    "tuple(a3)    #conversion of list to tuple"
   ]
  },
  {
   "cell_type": "code",
   "execution_count": 1,
   "id": "4a7c5650-a73d-4f0e-ac5f-f30492d04710",
   "metadata": {},
   "outputs": [],
   "source": [
    "a4=(1,2,3,4,5,6)"
   ]
  },
  {
   "cell_type": "code",
   "execution_count": 8,
   "id": "6025babf-8d81-4053-883f-5e2e30aba1b0",
   "metadata": {},
   "outputs": [
    {
     "name": "stdout",
     "output_type": "stream",
     "text": [
      "2,4,6,8,10,"
     ]
    }
   ],
   "source": [
    "for i in range(1,11):\n",
    "    if i%2==0:\n",
    "        print(i,end=',')\n",
    "    "
   ]
  },
  {
   "cell_type": "code",
   "execution_count": 22,
   "id": "82be3c6d-9bd5-42a9-9fc4-c0ec51e6b90c",
   "metadata": {},
   "outputs": [
    {
     "name": "stdout",
     "output_type": "stream",
     "text": [
      "1,3,5,7,9,"
     ]
    }
   ],
   "source": [
    "for i in range(1,11):\n",
    "    if i%2!=0:\n",
    "        print(i,end=',')"
   ]
  },
  {
   "cell_type": "code",
   "execution_count": 23,
   "id": "54d8cd84-548f-4c55-a57f-3b272a34bcdf",
   "metadata": {},
   "outputs": [],
   "source": [
    "a5=(1,2,3,4,5)\n",
    "a6=(6,7,8,9)"
   ]
  },
  {
   "cell_type": "code",
   "execution_count": 24,
   "id": "59e023ba-729a-4aa9-938c-ebc75fcb91bf",
   "metadata": {},
   "outputs": [
    {
     "data": {
      "text/plain": [
       "(1, 2, 3, 4, 5, 6, 7, 8, 9)"
      ]
     },
     "execution_count": 24,
     "metadata": {},
     "output_type": "execute_result"
    }
   ],
   "source": [
    "a5+a6"
   ]
  },
  {
   "cell_type": "code",
   "execution_count": 25,
   "id": "1c58a682-e90a-4a64-949c-e4a4e1475eba",
   "metadata": {},
   "outputs": [
    {
     "data": {
      "text/plain": [
       "(1, 2, 3, 4, 5, 1, 2, 3, 4, 5, 1, 2, 3, 4, 5)"
      ]
     },
     "execution_count": 25,
     "metadata": {},
     "output_type": "execute_result"
    }
   ],
   "source": [
    "a5*3"
   ]
  },
  {
   "cell_type": "code",
   "execution_count": 28,
   "id": "b94e0329-6498-4947-b3cc-cf2090abdac3",
   "metadata": {},
   "outputs": [
    {
     "name": "stdout",
     "output_type": "stream",
     "text": [
      "The given tuple is empty\n"
     ]
    }
   ],
   "source": [
    "a6=()\n",
    "if len(a6)<=0:\n",
    "    print('The given tuple is empty')\n",
    "else:\n",
    "    print('The givem tuple is not empty')"
   ]
  },
  {
   "cell_type": "code",
   "execution_count": 29,
   "id": "ba7b3aea-a257-4439-b291-71f839268a80",
   "metadata": {},
   "outputs": [],
   "source": [
    "a7=(1,2,3,4,(1,5,6,7),(1,2,3,),8,9,0)"
   ]
  },
  {
   "cell_type": "code",
   "execution_count": 30,
   "id": "1c1ba958-8dc7-41f6-899a-43634f901a94",
   "metadata": {},
   "outputs": [
    {
     "data": {
      "text/plain": [
       "1"
      ]
     },
     "execution_count": 30,
     "metadata": {},
     "output_type": "execute_result"
    }
   ],
   "source": [
    "a7[0]"
   ]
  },
  {
   "cell_type": "code",
   "execution_count": 40,
   "id": "0f212e8b-7e4b-4e89-830c-9f5d523729ba",
   "metadata": {},
   "outputs": [
    {
     "data": {
      "text/plain": [
       "tuple"
      ]
     },
     "execution_count": 40,
     "metadata": {},
     "output_type": "execute_result"
    }
   ],
   "source": [
    "a8=(a)\n",
    "type(a8)"
   ]
  },
  {
   "cell_type": "code",
   "execution_count": 41,
   "id": "836e62bd-8936-4231-a34b-3b56cf6caf87",
   "metadata": {},
   "outputs": [
    {
     "name": "stdout",
     "output_type": "stream",
     "text": [
      "the two tuples are equal\n"
     ]
    }
   ],
   "source": [
    "a9=(1,2,3,4,5)\n",
    "a10=(1,2,3,4,5)\n",
    "if a9==a10:\n",
    "    print('the two tuples are equal')\n",
    "else:\n",
    "    ('the two tuples are not equal')"
   ]
  },
  {
   "cell_type": "code",
   "execution_count": 42,
   "id": "43d770a4-884b-4c51-b4cf-12e59644e089",
   "metadata": {},
   "outputs": [],
   "source": [
    "del a10"
   ]
  },
  {
   "cell_type": "code",
   "execution_count": 44,
   "id": "2629698a-a711-43d9-8eae-55f8ed13ae79",
   "metadata": {},
   "outputs": [
    {
     "data": {
      "text/plain": [
       "(3, 5, 7)"
      ]
     },
     "execution_count": 44,
     "metadata": {},
     "output_type": "execute_result"
    }
   ],
   "source": [
    "a11=(1,2,3,4,5,6,7,8,9,10,11,12,13,14)\n",
    "a11[2:7:2]"
   ]
  },
  {
   "cell_type": "code",
   "execution_count": 46,
   "id": "2fbbe26d-e206-4790-b670-9d93595d0631",
   "metadata": {},
   "outputs": [
    {
     "name": "stdout",
     "output_type": "stream",
     "text": [
      "the maximum value is : 14\n"
     ]
    }
   ],
   "source": [
    "print('the maximum value is :',max(a11))\n"
   ]
  },
  {
   "cell_type": "code",
   "execution_count": 47,
   "id": "d462adc9-3357-4442-9fec-7522bccfd914",
   "metadata": {},
   "outputs": [
    {
     "name": "stdout",
     "output_type": "stream",
     "text": [
      "the maximum value is : 1\n"
     ]
    }
   ],
   "source": [
    "print('the maximum value is :',min(a11))"
   ]
  },
  {
   "cell_type": "code",
   "execution_count": 51,
   "id": "33469e19-ca89-4cbd-95b4-591f3fad593d",
   "metadata": {},
   "outputs": [],
   "source": [
    "a12='abcdef'"
   ]
  },
  {
   "cell_type": "code",
   "execution_count": 52,
   "id": "d2f2b42c-a1b2-4913-860e-0aafe7355a99",
   "metadata": {},
   "outputs": [
    {
     "data": {
      "text/plain": [
       "('a', 'b', 'c', 'd', 'e', 'f')"
      ]
     },
     "execution_count": 52,
     "metadata": {},
     "output_type": "execute_result"
    }
   ],
   "source": [
    "tuple(a12)"
   ]
  },
  {
   "cell_type": "code",
   "execution_count": 54,
   "id": "1630b95a-b5d7-4aa4-88a6-faaaf1ec5e83",
   "metadata": {},
   "outputs": [
    {
     "data": {
      "text/plain": [
       "'abcdef'"
      ]
     },
     "execution_count": 54,
     "metadata": {},
     "output_type": "execute_result"
    }
   ],
   "source": [
    "''.join(a13)"
   ]
  },
  {
   "cell_type": "code",
   "execution_count": 55,
   "id": "f785c475-f077-4145-bc66-5c0801de5c42",
   "metadata": {},
   "outputs": [],
   "source": [
    "a14=('abcd',12,12.3,True)"
   ]
  },
  {
   "cell_type": "code",
   "execution_count": 125,
   "id": "e5f6d2d7-7ec8-4068-8c2b-e3b8f4afcb03",
   "metadata": {},
   "outputs": [
    {
     "name": "stdout",
     "output_type": "stream",
     "text": [
      "the two tuples are identical\n"
     ]
    }
   ],
   "source": [
    "b1=(1,2,3,4,5)\n",
    "b2=(1,2,3,4,5)\n",
    "if b1==b2:\n",
    "    print('the two tuples are identical')\n",
    "else:\n",
    "    ('the two tuples are not identical')"
   ]
  },
  {
   "cell_type": "code",
   "execution_count": 126,
   "id": "70b82079-4138-4a99-ae9d-63299142ffa8",
   "metadata": {},
   "outputs": [
    {
     "data": {
      "text/plain": [
       "{1, 2, 3, 4, 5, 6, 7}"
      ]
     },
     "execution_count": 126,
     "metadata": {},
     "output_type": "execute_result"
    }
   ],
   "source": [
    "b3=(1,2,3,4,2,3,4,5,6,3,4,5,6,7,6,6)\n",
    "set(b3)"
   ]
  },
  {
   "cell_type": "code",
   "execution_count": 127,
   "id": "8614d0f1-8927-47ed-8d86-fd110e75cea8",
   "metadata": {},
   "outputs": [
    {
     "name": "stdout",
     "output_type": "stream",
     "text": [
      "('1', '2', '3', '4', '5', '6', '7')\n"
     ]
    }
   ],
   "source": [
    "b4=(1,2,3,4,5,6,7)\n",
    "x=tuple(str(i)for i in b4)\n",
    "print(x)"
   ]
  },
  {
   "cell_type": "code",
   "execution_count": 128,
   "id": "4d737c56-b253-4c94-833e-8f0204c9387f",
   "metadata": {},
   "outputs": [
    {
     "name": "stdout",
     "output_type": "stream",
     "text": [
      "(1, 2, 3, 4, 5, 6, 7)\n"
     ]
    }
   ],
   "source": [
    "b4=('1', '2', '3', '4', '5', '6', '7')\n",
    "x=tuple(int(i)for i in b4)\n",
    "print(x)"
   ]
  },
  {
   "cell_type": "code",
   "execution_count": 130,
   "id": "1137e8a2-44c1-4cc4-ac11-2a0c45960124",
   "metadata": {},
   "outputs": [
    {
     "data": {
      "text/plain": [
       "(1, 2, 3, 4, 5, 1, 2, 3, 4, 2, 3, 4, 5, 6, 3, 4, 5, 6, 7, 6, 6)"
      ]
     },
     "execution_count": 130,
     "metadata": {},
     "output_type": "execute_result"
    }
   ],
   "source": [
    "b2+b3"
   ]
  },
  {
   "cell_type": "code",
   "execution_count": 1,
   "id": "9f1bbd28-20c2-4b31-8c84-1e15b2485798",
   "metadata": {},
   "outputs": [
    {
     "name": "stdout",
     "output_type": "stream",
     "text": [
      "1\n",
      "3\n",
      "5\n",
      "7\n",
      "9\n"
     ]
    }
   ],
   "source": [
    "b5=(1,2,3,4,5,6,7,8,9,10)\n",
    "for i in b5:\n",
    "    if i%2!=0:\n",
    "        x=print(i)\n"
   ]
  },
  {
   "cell_type": "code",
   "execution_count": 4,
   "id": "6534b5b1-84e1-4879-a005-0c67b34c71f8",
   "metadata": {},
   "outputs": [],
   "source": [
    "def is_palindrome(tup):\n",
    "    return tup == tup[::-1]\n",
    "tuple1=(1,2,3,4,5,4,3,2,1)"
   ]
  },
  {
   "cell_type": "code",
   "execution_count": 5,
   "id": "a9316cdc-214a-458c-a461-7f70c5bc8c9c",
   "metadata": {},
   "outputs": [
    {
     "name": "stdout",
     "output_type": "stream",
     "text": [
      "True\n"
     ]
    }
   ],
   "source": [
    "print(is_palindrome(tuple1))"
   ]
  },
  {
   "cell_type": "code",
   "execution_count": 11,
   "id": "4add136b-5d0d-41bf-bce8-cddc6d14aff2",
   "metadata": {},
   "outputs": [
    {
     "name": "stdout",
     "output_type": "stream",
     "text": [
      "(1, 4, 9, 16, 25)\n"
     ]
    }
   ],
   "source": [
    "y=tuple(i*i for i in range(1, 6))\n",
    "print(y)"
   ]
  },
  {
   "cell_type": "code",
   "execution_count": 21,
   "id": "100b5450-24da-463c-b214-028e11f80103",
   "metadata": {},
   "outputs": [
    {
     "name": "stdout",
     "output_type": "stream",
     "text": [
      "(2, 4, 6, 8, 10, 12, 14, 16, 18, 20)\n"
     ]
    }
   ],
   "source": [
    "b7=(1,2,3,4,5,6,7,8,9,10,11,12,13,14,15,16,17,18,19,20)\n",
    "x1=tuple(x for x in b7 if x%2==0)\n",
    "print(x1)"
   ]
  },
  {
   "cell_type": "code",
   "execution_count": 26,
   "id": "4f14ae96-411b-419f-bd34-b37ccab57d1a",
   "metadata": {},
   "outputs": [
    {
     "name": "stdout",
     "output_type": "stream",
     "text": [
      "(2, 4, 6, 8, 10)\n"
     ]
    }
   ],
   "source": [
    "b8=(1,2,3,4,5)\n",
    "x2=tuple(x*2 for x in b8)\n",
    "print(x2)"
   ]
  },
  {
   "cell_type": "code",
   "execution_count": 28,
   "id": "b521a3be-f5b4-4105-9b87-4c91b3abf669",
   "metadata": {},
   "outputs": [],
   "source": [
    "b9=(1,2,5,9,6,10,11,15,13,19,17)"
   ]
  },
  {
   "cell_type": "code",
   "execution_count": 29,
   "id": "413fa36e-74df-4f22-beaf-e12f267f8386",
   "metadata": {},
   "outputs": [
    {
     "name": "stdout",
     "output_type": "stream",
     "text": [
      "False\n"
     ]
    }
   ],
   "source": [
    "def is_sorted(b10):\n",
    "    return b10 == tuple(sorted(b10))\n",
    "b10=(1,2,3,2,3,4,5,6,6,7,7)\n",
    "print(is_sorted(b10))"
   ]
  },
  {
   "cell_type": "code",
   "execution_count": 35,
   "id": "647015a2-3a26-4a7c-a867-4ccd855b4219",
   "metadata": {},
   "outputs": [
    {
     "name": "stdout",
     "output_type": "stream",
     "text": [
      "(3, 4, 5, 6, 7, 8, 9, 1, 2)\n"
     ]
    }
   ],
   "source": [
    "def rotate_tuple_left(b11,n):\n",
    "    return b11[n: ]+b11[ :n]\n",
    "b11=(1,2,3,4,5,6,7,8,9)\n",
    "print(rotate_tuple_left(b11,2))"
   ]
  },
  {
   "cell_type": "code",
   "execution_count": 36,
   "id": "2c28cb9a-911d-46ef-b1e5-eec0d61d10c2",
   "metadata": {},
   "outputs": [
    {
     "name": "stdout",
     "output_type": "stream",
     "text": [
      "(8, 9, 1, 2, 3, 4, 5, 6, 7)\n"
     ]
    }
   ],
   "source": [
    "def rotate_tuple_right(b12,n):\n",
    "    return b11[-n: ]+b11[ :-n]\n",
    "b12=(1,2,3,4,5,6,7,8,9)\n",
    "print(rotate_tuple_right(b12,2))"
   ]
  },
  {
   "cell_type": "code",
   "execution_count": 37,
   "id": "30fb2a8f-547b-409f-9985-34a024f0c985",
   "metadata": {},
   "outputs": [],
   "source": [
    "def generate_fibbonaci(n):\n",
    "    b13=[0,1]\n",
    "    while len(b13)<n:\n",
    "        c=b13[-1]+b13[-2]\n",
    "        b13.append(c)\n",
    "        return tuple(b13)"
   ]
  },
  {
   "cell_type": "code",
   "execution_count": 39,
   "id": "d0370ce6-3e48-484b-978c-99b3da3722eb",
   "metadata": {},
   "outputs": [
    {
     "data": {
      "text/plain": [
       "(0, 1, 1)"
      ]
     },
     "execution_count": 39,
     "metadata": {},
     "output_type": "execute_result"
    }
   ],
   "source": [
    "generate_fibbonaci(5)"
   ]
  },
  {
   "cell_type": "code",
   "execution_count": 46,
   "id": "c40fbdb5-a3fb-482b-81b6-40f20414cc2f",
   "metadata": {},
   "outputs": [
    {
     "name": "stdin",
     "output_type": "stream",
     "text": [
      " 123456\n"
     ]
    }
   ],
   "source": [
    "b14=tuple(input())\n"
   ]
  },
  {
   "cell_type": "code",
   "execution_count": 47,
   "id": "46eb7c91-040e-49e3-bd61-662033219cb9",
   "metadata": {},
   "outputs": [
    {
     "data": {
      "text/plain": [
       "tuple"
      ]
     },
     "execution_count": 47,
     "metadata": {},
     "output_type": "execute_result"
    }
   ],
   "source": [
    "type(b14)"
   ]
  },
  {
   "cell_type": "code",
   "execution_count": 48,
   "id": "387b4c6a-685b-4bba-87e0-700bc15d8713",
   "metadata": {},
   "outputs": [
    {
     "data": {
      "text/plain": [
       "('1', '2', '3', '4', '5', '6')"
      ]
     },
     "execution_count": 48,
     "metadata": {},
     "output_type": "execute_result"
    }
   ],
   "source": [
    "b14"
   ]
  },
  {
   "cell_type": "code",
   "execution_count": 51,
   "id": "a6614e21-491a-4616-b909-adabe5ddf8ff",
   "metadata": {},
   "outputs": [
    {
     "name": "stdout",
     "output_type": "stream",
     "text": [
      "(1, 2, 3, 7, 5, 6, 4, 8, 9)\n"
     ]
    }
   ],
   "source": [
    "b15=(1,2,3,4,5,6,7,8,9)\n",
    "def swap_element(b15,pos1,pos2):\n",
    "    a=list(b15)\n",
    "    a[pos1],a[pos2]=a[pos2],a[pos1]\n",
    "    b=tuple(a)\n",
    "    return(b)\n",
    "print(swap_element(b15,3,6))"
   ]
  },
  {
   "cell_type": "code",
   "execution_count": 52,
   "id": "7dc242cf-d723-41a8-b75f-ade19fe16d55",
   "metadata": {},
   "outputs": [
    {
     "data": {
      "text/plain": [
       "(1, 2, 3, 4, 5, 6, 7, 8, 9)"
      ]
     },
     "execution_count": 52,
     "metadata": {},
     "output_type": "execute_result"
    }
   ],
   "source": [
    "b15"
   ]
  },
  {
   "cell_type": "code",
   "execution_count": 53,
   "id": "c15c0703-46e0-426d-b0c7-c59116b7b1d8",
   "metadata": {},
   "outputs": [
    {
     "data": {
      "text/plain": [
       "(9, 8, 7, 6, 5, 4, 3, 2, 1)"
      ]
     },
     "execution_count": 53,
     "metadata": {},
     "output_type": "execute_result"
    }
   ],
   "source": [
    "b15[::-1]"
   ]
  },
  {
   "cell_type": "code",
   "execution_count": 55,
   "id": "61eac903-a8db-4aa7-a5d0-9d36d7be5170",
   "metadata": {},
   "outputs": [
    {
     "name": "stdout",
     "output_type": "stream",
     "text": [
      "(1, 2, 4, 8, 16)\n"
     ]
    }
   ],
   "source": [
    "x2=tuple(2**i for i in range(5))\n",
    "print(x2)"
   ]
  },
  {
   "cell_type": "code",
   "execution_count": 65,
   "id": "21e93de0-0c72-4128-87bf-fd4a3af2ef38",
   "metadata": {},
   "outputs": [
    {
     "name": "stdout",
     "output_type": "stream",
     "text": [
      "coding\n"
     ]
    }
   ],
   "source": [
    "b16=('i','love','coding')\n",
    "\n",
    "def longest_string(b16):\n",
    "    longest=\"\"\n",
    "    for i in b16:\n",
    "        if len(i)>len(longest):\n",
    "            longest=i\n",
    "    return longest\n",
    "print(longest_string(b16))"
   ]
  },
  {
   "cell_type": "code",
   "execution_count": 68,
   "id": "bc09f8f8-6322-47e9-a44f-90ed02c27aad",
   "metadata": {},
   "outputs": [
    {
     "name": "stdout",
     "output_type": "stream",
     "text": [
      "i\n"
     ]
    }
   ],
   "source": [
    "b16=('i','love','coding')\n",
    "\n",
    "def shortest_string(b16):\n",
    "    shortest=\"                \"\n",
    "    for i in b16:\n",
    "        if len(i)<len(shortest):\n",
    "            shortest=i\n",
    "    return shortest\n",
    "print(shortest_string(b16))"
   ]
  },
  {
   "cell_type": "code",
   "execution_count": 3,
   "id": "be2d6716-028d-49b5-896f-18009416d3e6",
   "metadata": {},
   "outputs": [],
   "source": [
    "def triangular_number(n):\n",
    "    a=tuple((i * (i + 1)) // 2 for i in range(1, n + 1))\n",
    "    return a"
   ]
  },
  {
   "cell_type": "code",
   "execution_count": 4,
   "id": "66b950c5-1022-4626-b40e-7c13fa33163d",
   "metadata": {},
   "outputs": [
    {
     "name": "stdout",
     "output_type": "stream",
     "text": [
      "(1, 3, 6, 10, 15, 21, 28, 36, 45, 55)\n"
     ]
    }
   ],
   "source": [
    "print(triangular_number(10))"
   ]
  },
  {
   "cell_type": "code",
   "execution_count": 10,
   "id": "839a2f3d-75de-4be1-a38c-205e1cff55c7",
   "metadata": {},
   "outputs": [],
   "source": [
    "def subsequence(a,b):\n",
    "    a1=len(a)\n",
    "    b1=len(b)\n",
    "\n",
    "    for i in range(a1-b1+1):\n",
    "        if a[i:i + b1] == b:\n",
    "            return True\n",
    "        \n",
    "    return False\n",
    "a=(1,2,3,4,5,6,7)\n",
    "b=(3,4,5)"
   ]
  },
  {
   "cell_type": "code",
   "execution_count": 11,
   "id": "ec24031f-34f3-4cc5-ab63-9391a635c3b9",
   "metadata": {},
   "outputs": [
    {
     "data": {
      "text/plain": [
       "True"
      ]
     },
     "execution_count": 11,
     "metadata": {},
     "output_type": "execute_result"
    }
   ],
   "source": [
    "subsequence(a,b)"
   ]
  },
  {
   "cell_type": "code",
   "execution_count": 12,
   "id": "7733290c-cdad-4083-a5e6-c3a66cadef29",
   "metadata": {},
   "outputs": [],
   "source": [
    "y1=tuple( i%2 for i in range(10) )"
   ]
  },
  {
   "cell_type": "code",
   "execution_count": 13,
   "id": "051fc61d-0d41-4dea-9621-f9649fbb6cd9",
   "metadata": {},
   "outputs": [
    {
     "data": {
      "text/plain": [
       "(0, 1, 0, 1, 0, 1, 0, 1, 0, 1)"
      ]
     },
     "execution_count": 13,
     "metadata": {},
     "output_type": "execute_result"
    }
   ],
   "source": [
    "y1"
   ]
  },
  {
   "cell_type": "code",
   "execution_count": 2,
   "id": "f75f18b0-ccde-4f17-995e-d2c1785f537d",
   "metadata": {},
   "outputs": [
    {
     "name": "stdout",
     "output_type": "stream",
     "text": [
      "{0, 1, 2, 3, 4, 5}\n"
     ]
    }
   ],
   "source": [
    "i=0,1,2,3,4,5\n",
    "s1=set(i)\n",
    "print(s1)"
   ]
  },
  {
   "cell_type": "code",
   "execution_count": 3,
   "id": "fc9fbdc8-350a-43f6-8173-abcc42bb09a7",
   "metadata": {},
   "outputs": [],
   "source": [
    "s1.add(6)"
   ]
  },
  {
   "cell_type": "code",
   "execution_count": 4,
   "id": "b791e700-d980-4f2e-a598-fa0d533f98a6",
   "metadata": {},
   "outputs": [
    {
     "data": {
      "text/plain": [
       "{0, 1, 2, 3, 4, 5, 6}"
      ]
     },
     "execution_count": 4,
     "metadata": {},
     "output_type": "execute_result"
    }
   ],
   "source": [
    "s1"
   ]
  },
  {
   "cell_type": "code",
   "execution_count": 5,
   "id": "986ae886-f0fc-4398-8e36-46d9efcde865",
   "metadata": {},
   "outputs": [],
   "source": [
    "s1.remove(6)"
   ]
  },
  {
   "cell_type": "code",
   "execution_count": 6,
   "id": "000c1875-e3cf-46b4-891e-e8863beed363",
   "metadata": {},
   "outputs": [
    {
     "data": {
      "text/plain": [
       "{0, 1, 2, 3, 4, 5}"
      ]
     },
     "execution_count": 6,
     "metadata": {},
     "output_type": "execute_result"
    }
   ],
   "source": [
    "s1"
   ]
  },
  {
   "cell_type": "code",
   "execution_count": 7,
   "id": "ae7c4ef2-c405-472a-b15d-589fc8ba71e4",
   "metadata": {},
   "outputs": [
    {
     "name": "stdout",
     "output_type": "stream",
     "text": [
      "the element exist in set\n"
     ]
    }
   ],
   "source": [
    "if 3 in s1:\n",
    "    print('the element exist in set')\n",
    "else:\n",
    "    print('the element doesnt exist in set')"
   ]
  },
  {
   "cell_type": "code",
   "execution_count": 16,
   "id": "b757c46d-b080-4bff-8b56-de85d1189246",
   "metadata": {},
   "outputs": [],
   "source": [
    "def length(s2):\n",
    "    c=0\n",
    "    for i in s2:\n",
    "        c += 1\n",
    "    return c\n",
    "s2={1,2,3,4,5,6,7}"
   ]
  },
  {
   "cell_type": "code",
   "execution_count": 17,
   "id": "ea98ddda-29ab-4e8e-83a9-242939ab3e3f",
   "metadata": {},
   "outputs": [
    {
     "data": {
      "text/plain": [
       "7"
      ]
     },
     "execution_count": 17,
     "metadata": {},
     "output_type": "execute_result"
    }
   ],
   "source": [
    "length(s2)"
   ]
  },
  {
   "cell_type": "code",
   "execution_count": 18,
   "id": "86fa1793-32ee-4493-abe5-d7ad90f5b75a",
   "metadata": {},
   "outputs": [
    {
     "data": {
      "text/plain": [
       "{1, 2, 3, 4, 5, 6, 7}"
      ]
     },
     "execution_count": 18,
     "metadata": {},
     "output_type": "execute_result"
    }
   ],
   "source": [
    "s2"
   ]
  },
  {
   "cell_type": "code",
   "execution_count": 21,
   "id": "323f5b39-6b4e-436e-be0f-02bca0dc6c4a",
   "metadata": {},
   "outputs": [],
   "source": [
    "s2.clear()"
   ]
  },
  {
   "cell_type": "code",
   "execution_count": 22,
   "id": "4bd513b1-5a83-4562-9c70-83a8ad9aec4d",
   "metadata": {},
   "outputs": [
    {
     "data": {
      "text/plain": [
       "set()"
      ]
     },
     "execution_count": 22,
     "metadata": {},
     "output_type": "execute_result"
    }
   ],
   "source": [
    "s2"
   ]
  },
  {
   "cell_type": "code",
   "execution_count": 31,
   "id": "02181ec3-c078-4e7c-8cb9-a848e8105546",
   "metadata": {},
   "outputs": [],
   "source": [
    "x={x1 for x1 in range(1,11) if x1 %2==0}"
   ]
  },
  {
   "cell_type": "code",
   "execution_count": 32,
   "id": "1eb1ab78-8a2c-431f-b455-f1f4e080525a",
   "metadata": {},
   "outputs": [
    {
     "data": {
      "text/plain": [
       "{2, 4, 6, 8, 10}"
      ]
     },
     "execution_count": 32,
     "metadata": {},
     "output_type": "execute_result"
    }
   ],
   "source": [
    "x"
   ]
  },
  {
   "cell_type": "code",
   "execution_count": 33,
   "id": "b2ddea39-fafa-41c4-96b4-f7deb9ff7e6f",
   "metadata": {},
   "outputs": [],
   "source": [
    "x2={x3 for x3 in range(1,11) if x3 %2!=0}"
   ]
  },
  {
   "cell_type": "code",
   "execution_count": 34,
   "id": "543c7af3-1064-474c-ac7c-98194b681db4",
   "metadata": {},
   "outputs": [
    {
     "data": {
      "text/plain": [
       "{1, 3, 5, 7, 9}"
      ]
     },
     "execution_count": 34,
     "metadata": {},
     "output_type": "execute_result"
    }
   ],
   "source": [
    "x2"
   ]
  },
  {
   "cell_type": "code",
   "execution_count": 35,
   "id": "cd54b97b-c1b9-4d48-a671-67caf8a2e21a",
   "metadata": {},
   "outputs": [],
   "source": [
    "s4={1,2,3,4,5,6,7}\n",
    "s5={4,5,6,7,8,9,9,10}"
   ]
  },
  {
   "cell_type": "code",
   "execution_count": 36,
   "id": "a3a876e7-e934-438e-ac3f-2f5410f960bc",
   "metadata": {},
   "outputs": [
    {
     "data": {
      "text/plain": [
       "{1, 2, 3, 4, 5, 6, 7, 8, 9, 10}"
      ]
     },
     "execution_count": 36,
     "metadata": {},
     "output_type": "execute_result"
    }
   ],
   "source": [
    "s4.union(s5)"
   ]
  },
  {
   "cell_type": "code",
   "execution_count": 37,
   "id": "400de384-c724-4e3a-8370-4dbe238c135d",
   "metadata": {},
   "outputs": [
    {
     "data": {
      "text/plain": [
       "{4, 5, 6, 7}"
      ]
     },
     "execution_count": 37,
     "metadata": {},
     "output_type": "execute_result"
    }
   ],
   "source": [
    "s4.intersection(s5)"
   ]
  },
  {
   "cell_type": "code",
   "execution_count": 38,
   "id": "66c01e79-5553-4007-b2b0-ef72d6565bc6",
   "metadata": {},
   "outputs": [
    {
     "data": {
      "text/plain": [
       "{1, 2, 3}"
      ]
     },
     "execution_count": 38,
     "metadata": {},
     "output_type": "execute_result"
    }
   ],
   "source": [
    "s4.difference(s5)"
   ]
  },
  {
   "cell_type": "code",
   "execution_count": 39,
   "id": "090accbe-6ba4-42f4-ae3c-d050724b7a07",
   "metadata": {},
   "outputs": [],
   "source": [
    "s6={1,2,3,4,5,6}\n",
    "s7={3,4,5}"
   ]
  },
  {
   "cell_type": "code",
   "execution_count": 40,
   "id": "26103f78-da86-4a24-9350-35a80616fb32",
   "metadata": {},
   "outputs": [
    {
     "data": {
      "text/plain": [
       "True"
      ]
     },
     "execution_count": 40,
     "metadata": {},
     "output_type": "execute_result"
    }
   ],
   "source": [
    "s7.issubset(s6)"
   ]
  },
  {
   "cell_type": "code",
   "execution_count": 41,
   "id": "29ef14ee-fa7a-448b-afb6-74a964856025",
   "metadata": {},
   "outputs": [
    {
     "data": {
      "text/plain": [
       "True"
      ]
     },
     "execution_count": 41,
     "metadata": {},
     "output_type": "execute_result"
    }
   ],
   "source": [
    "s6.issuperset(s7)"
   ]
  },
  {
   "cell_type": "code",
   "execution_count": 1,
   "id": "712a26a0-636f-4094-9fe8-a414f524d78d",
   "metadata": {},
   "outputs": [],
   "source": [
    "y1=[0,1,23,3,44,5,6,7,8]\n",
    "z1=set(y1)"
   ]
  },
  {
   "cell_type": "code",
   "execution_count": 2,
   "id": "2d8f6cf5-a4b1-4f3f-8b24-abad2462bd26",
   "metadata": {},
   "outputs": [
    {
     "data": {
      "text/plain": [
       "{0, 1, 3, 5, 6, 7, 8, 23, 44}"
      ]
     },
     "execution_count": 2,
     "metadata": {},
     "output_type": "execute_result"
    }
   ],
   "source": [
    "z1\n"
   ]
  },
  {
   "cell_type": "code",
   "execution_count": 3,
   "id": "e8c99abc-5484-4771-8b6b-b8f55ca60216",
   "metadata": {},
   "outputs": [],
   "source": [
    "y2={1,2,3,4,5,67,8,8,9}"
   ]
  },
  {
   "cell_type": "code",
   "execution_count": 4,
   "id": "d83b9e7e-a4a4-461f-9866-23ecf50f0590",
   "metadata": {},
   "outputs": [],
   "source": [
    "z2=list(y2)"
   ]
  },
  {
   "cell_type": "code",
   "execution_count": 5,
   "id": "9742747e-ea2e-46b2-988b-76d304181010",
   "metadata": {},
   "outputs": [
    {
     "data": {
      "text/plain": [
       "[1, 2, 3, 4, 5, 67, 8, 9]"
      ]
     },
     "execution_count": 5,
     "metadata": {},
     "output_type": "execute_result"
    }
   ],
   "source": [
    "z2"
   ]
  },
  {
   "cell_type": "code",
   "execution_count": 9,
   "id": "01784e4e-b550-4c22-b9d7-b00e97ca0113",
   "metadata": {},
   "outputs": [],
   "source": [
    "y1.remove(23)"
   ]
  },
  {
   "cell_type": "code",
   "execution_count": 10,
   "id": "aab00a09-1749-4101-9a7e-70b825274e28",
   "metadata": {},
   "outputs": [
    {
     "data": {
      "text/plain": [
       "[0, 1, 44, 5, 6, 7, 8]"
      ]
     },
     "execution_count": 10,
     "metadata": {},
     "output_type": "execute_result"
    }
   ],
   "source": [
    "y1"
   ]
  },
  {
   "cell_type": "code",
   "execution_count": 11,
   "id": "64f0faac-e837-47f1-9f20-afde01d0c411",
   "metadata": {},
   "outputs": [
    {
     "data": {
      "text/plain": [
       "7"
      ]
     },
     "execution_count": 11,
     "metadata": {},
     "output_type": "execute_result"
    }
   ],
   "source": [
    "y1.pop(5)"
   ]
  },
  {
   "cell_type": "code",
   "execution_count": 19,
   "id": "0e628868-4b23-41c9-8b85-212de9f180ca",
   "metadata": {},
   "outputs": [
    {
     "name": "stdout",
     "output_type": "stream",
     "text": [
      "no elements are comman\n"
     ]
    }
   ],
   "source": [
    "f1={1,2,3,4,5,6,7,8}\n",
    "f2={0,9,88,77,55}\n",
    "if f2.intersection(f1)==set():\n",
    "     print('no elements are comman')\n",
    "else:\n",
    "     print('the element is comman')"
   ]
  },
  {
   "cell_type": "code",
   "execution_count": 20,
   "id": "9c6f235e-ab82-4bca-9803-bead28e09ac5",
   "metadata": {},
   "outputs": [
    {
     "data": {
      "text/plain": [
       "{0, 1, 8, 9, 55, 77, 88}"
      ]
     },
     "execution_count": 20,
     "metadata": {},
     "output_type": "execute_result"
    }
   ],
   "source": [
    "f1={1,2,3,4,5,6,7,8}\n",
    "f2={0,9,88,2,3,4,5,6,7,77,55}\n",
    "\n",
    "f2.symmetric_difference(f1)"
   ]
  },
  {
   "cell_type": "code",
   "execution_count": 21,
   "id": "e771682b-250f-4574-b453-efd217f40519",
   "metadata": {},
   "outputs": [],
   "source": [
    "f3={1,2,3,4,5}\n",
    "f4={6,7,8,9}\n",
    "f3.update(f4)"
   ]
  },
  {
   "cell_type": "code",
   "execution_count": 22,
   "id": "5be6af73-15d6-4f3d-92a6-d727614ff51c",
   "metadata": {},
   "outputs": [
    {
     "data": {
      "text/plain": [
       "{1, 2, 3, 4, 5, 6, 7, 8, 9}"
      ]
     },
     "execution_count": 22,
     "metadata": {},
     "output_type": "execute_result"
    }
   ],
   "source": [
    "f3"
   ]
  },
  {
   "cell_type": "code",
   "execution_count": 11,
   "id": "a8a51860-92a1-43e7-8570-feabbf95cfd0",
   "metadata": {},
   "outputs": [
    {
     "name": "stdout",
     "output_type": "stream",
     "text": [
      "{1, 3, 5, 7, 9}\n"
     ]
    }
   ],
   "source": [
    "y=(1,3,5,7,9)\n",
    "x=set(y)\n",
    "print(x)"
   ]
  },
  {
   "cell_type": "code",
   "execution_count": 24,
   "id": "da26ced9-c845-43df-894c-2c2fc43e6c0c",
   "metadata": {},
   "outputs": [
    {
     "name": "stdout",
     "output_type": "stream",
     "text": [
      "the two sets are identical\n"
     ]
    }
   ],
   "source": [
    "f5={1,2,3,4,5,6}\n",
    "f6={1,2,3,4,5,6}\n",
    "\n",
    "if f5==f6:\n",
    "    print('the two sets are identical')\n",
    "else:\n",
    "    print('the two sets are not identical')"
   ]
  },
  {
   "cell_type": "code",
   "execution_count": 1,
   "id": "fb22b1da-6c10-4392-9c4c-3cdce71a34d1",
   "metadata": {},
   "outputs": [
    {
     "name": "stdout",
     "output_type": "stream",
     "text": [
      "frozenset({1, 2, 3, 4, 5, 6})\n"
     ]
    }
   ],
   "source": [
    "f7={1,2,3,4,5,6}\n",
    "x=frozenset(f7)\n",
    "print(x)"
   ]
  },
  {
   "cell_type": "code",
   "execution_count": 4,
   "id": "abffb7ea-41e6-40ed-a909-80ddd9ea32d3",
   "metadata": {},
   "outputs": [
    {
     "data": {
      "text/plain": [
       "False"
      ]
     },
     "execution_count": 4,
     "metadata": {},
     "output_type": "execute_result"
    }
   ],
   "source": [
    "f8={1,2,34,5,6}\n",
    "f9={1,2,34,5,6,7,89,9}\n",
    "f9.isdisjoint(f8)"
   ]
  },
  {
   "cell_type": "code",
   "execution_count": 12,
   "id": "4e36ce8f-54c9-4c63-b044-36af4c026b39",
   "metadata": {},
   "outputs": [
    {
     "name": "stdout",
     "output_type": "stream",
     "text": [
      "{1, 4, 9, 16, 25}\n"
     ]
    }
   ],
   "source": [
    "y={x**2 for x in range(1,6)}\n",
    "print(y)"
   ]
  },
  {
   "cell_type": "code",
   "execution_count": 13,
   "id": "939faa78-31e3-4399-8e89-d793b09869c4",
   "metadata": {},
   "outputs": [
    {
     "name": "stdout",
     "output_type": "stream",
     "text": [
      "{2, 4, 6, 8, 10, 12, 14, 16, 18, 20}\n"
     ]
    }
   ],
   "source": [
    "y={1,2,3,4,5,6,7,8,9,10,11,12,13,14,15,16,17,18,19,20}\n",
    "x={x for x in y if x%2==0}\n",
    "print(x)"
   ]
  },
  {
   "cell_type": "code",
   "execution_count": 15,
   "id": "b3a44bff-a6a0-45c8-bd14-728bf708d633",
   "metadata": {},
   "outputs": [
    {
     "name": "stdout",
     "output_type": "stream",
     "text": [
      "{2, 4, 6, 8, 10, 12, 14, 16}\n"
     ]
    }
   ],
   "source": [
    "y={1,2,3,4,5,6,7,8}\n",
    "x={x*2 for x in y}\n",
    "print(x)"
   ]
  },
  {
   "cell_type": "code",
   "execution_count": 16,
   "id": "f512d116-c22d-4088-9cc0-917a827494d8",
   "metadata": {},
   "outputs": [],
   "source": [
    "x1={1,4,3,5,2,6,7,4,8,9,10,10,28,47}"
   ]
  },
  {
   "cell_type": "code",
   "execution_count": 18,
   "id": "535db277-2081-46d6-a75d-55dc42cef5ea",
   "metadata": {},
   "outputs": [
    {
     "name": "stdout",
     "output_type": "stream",
     "text": [
      "the set is empty\n"
     ]
    }
   ],
   "source": [
    "x2={}\n",
    "if len(x2)==0:\n",
    "    print('the set is empty')\n",
    "else:\n",
    "    print('the set is not empty')"
   ]
  },
  {
   "cell_type": "code",
   "execution_count": 23,
   "id": "de736142-736e-43fe-b800-e58336ebc6ec",
   "metadata": {},
   "outputs": [
    {
     "name": "stdout",
     "output_type": "stream",
     "text": [
      "frozenset({frozenset({1, 2, 3}), frozenset({4, 5, 6, 7, 8}), frozenset({9, 10, 11, 12, 13})})\n"
     ]
    }
   ],
   "source": [
    "y=frozenset([frozenset({1,2,3}),frozenset({4,5,6,7,8}),frozenset({9,10,11,12,13})])\n",
    "print(y)"
   ]
  },
  {
   "cell_type": "code",
   "execution_count": 26,
   "id": "94fd4365-bba8-40b3-ad41-99be197d03d9",
   "metadata": {},
   "outputs": [
    {
     "data": {
      "text/plain": [
       "{1, 2, 3, 4, 5, 6, 7, 8, 9, 10, 28, 47}"
      ]
     },
     "execution_count": 26,
     "metadata": {},
     "output_type": "execute_result"
    }
   ],
   "source": [
    "x1"
   ]
  },
  {
   "cell_type": "code",
   "execution_count": 29,
   "id": "48d41249-d6c4-4ae2-a332-d9227396aeec",
   "metadata": {},
   "outputs": [],
   "source": [
    "x1.discard(5)"
   ]
  },
  {
   "cell_type": "code",
   "execution_count": 30,
   "id": "4e0c0289-5371-4a11-bdd1-a222fe5e0350",
   "metadata": {},
   "outputs": [
    {
     "data": {
      "text/plain": [
       "{1, 2, 3, 4, 6, 7, 8, 9, 10, 28, 47}"
      ]
     },
     "execution_count": 30,
     "metadata": {},
     "output_type": "execute_result"
    }
   ],
   "source": [
    "x1"
   ]
  },
  {
   "cell_type": "code",
   "execution_count": 1,
   "id": "e4b4fe84-c576-421d-a6c1-c9f4d4735e7f",
   "metadata": {},
   "outputs": [
    {
     "name": "stdout",
     "output_type": "stream",
     "text": [
      "The diffrence : {1, 2}\n",
      "The intersection: {3, 4}\n",
      "The symettric diffrence: {1, 2, 5, 6, 7, 8}\n",
      "The union : {1, 2, 3, 4, 5, 6, 7, 8}\n"
     ]
    }
   ],
   "source": [
    "z1={1,2,3,4}\n",
    "z2={3,4,5,6,7,8}\n",
    "\n",
    "a=z1.difference(z2)\n",
    "b=z1.intersection(z2)\n",
    "c=z1.symmetric_difference(z2)\n",
    "d=z1.union(z2)\n",
    "\n",
    "print('The diffrence :',a)\n",
    "print('The intersection:',b)\n",
    "print('The symettric diffrence:',c)\n",
    "print('The union :',d)"
   ]
  },
  {
   "cell_type": "code",
   "execution_count": 5,
   "id": "a7f241be-dbd5-4ecb-96e9-1e53b74f5de6",
   "metadata": {},
   "outputs": [
    {
     "name": "stdout",
     "output_type": "stream",
     "text": [
      "{'e', 'h', 'l', 'o'}\n"
     ]
    }
   ],
   "source": [
    "z3='hello'\n",
    "x=set(z3)\n",
    "print(x)"
   ]
  },
  {
   "cell_type": "code",
   "execution_count": 8,
   "id": "4526eddf-629b-4a3e-a433-c051ed2520ee",
   "metadata": {},
   "outputs": [
    {
     "name": "stdout",
     "output_type": "stream",
     "text": [
      "{1, 2, 3, 4, 5}\n"
     ]
    }
   ],
   "source": [
    "s2={'1','2','3','4','5'}\n",
    "y={int(element) for element in s2}\n",
    "print(y)"
   ]
  },
  {
   "cell_type": "code",
   "execution_count": 9,
   "id": "099d9400-1c93-497e-812b-403f0e5124fc",
   "metadata": {},
   "outputs": [
    {
     "name": "stdout",
     "output_type": "stream",
     "text": [
      "{'4', '2', '1', '3', '5'}\n"
     ]
    }
   ],
   "source": [
    "s2={1, 2, 3, 4, 5}\n",
    "y={str(element) for element in s2}\n",
    "print(y)"
   ]
  },
  {
   "cell_type": "code",
   "execution_count": 10,
   "id": "423bdb38-953e-4cbe-b2ff-5de8a2986d57",
   "metadata": {},
   "outputs": [
    {
     "name": "stdout",
     "output_type": "stream",
     "text": [
      "{1, 2, 3, 4, 5}\n"
     ]
    }
   ],
   "source": [
    "s3=(1,2,3,4,5)\n",
    "y=set(s3)\n",
    "print(y)"
   ]
  },
  {
   "cell_type": "code",
   "execution_count": 11,
   "id": "ad717c01-2b12-4a55-abd8-234e09ff1e7b",
   "metadata": {},
   "outputs": [
    {
     "name": "stdout",
     "output_type": "stream",
     "text": [
      "(1, 2, 3, 4, 5)\n"
     ]
    }
   ],
   "source": [
    "s2={1, 2, 3, 4, 5}\n",
    "y=tuple(s2)\n",
    "print(y)"
   ]
  },
  {
   "cell_type": "code",
   "execution_count": 13,
   "id": "447a0674-877f-4662-a3a3-86b3ba1f19af",
   "metadata": {},
   "outputs": [
    {
     "name": "stdout",
     "output_type": "stream",
     "text": [
      "The maximum value is : 8\n",
      "The minmum value is : 1\n"
     ]
    }
   ],
   "source": [
    "s4={1,2,3,4,2,2,3,4,5,5,6,6,7,7,7,8}\n",
    "x=max(s4)\n",
    "y=min(s4)\n",
    "print('The maximum value is :',x)\n",
    "print('The minmum value is :',y)"
   ]
  },
  {
   "cell_type": "code",
   "execution_count": 17,
   "id": "8b2d48a4-ea99-4585-b4c1-d3d2eb5c7456",
   "metadata": {},
   "outputs": [
    {
     "name": "stdin",
     "output_type": "stream",
     "text": [
      "please enter the set: 1,2,3,4,5,6\n"
     ]
    },
    {
     "name": "stdout",
     "output_type": "stream",
     "text": [
      "{'4', '2', ',', '6', '1', '3', '5'}\n"
     ]
    }
   ],
   "source": [
    "s5=set(input('please enter the set:'))\n",
    "print(s5)"
   ]
  },
  {
   "cell_type": "code",
   "execution_count": 21,
   "id": "23722b02-23eb-4929-a952-f36e9a083b9f",
   "metadata": {},
   "outputs": [
    {
     "name": "stdout",
     "output_type": "stream",
     "text": [
      "the intersection of two set in empty\n"
     ]
    }
   ],
   "source": [
    "s6={1,2,3,4,5}\n",
    "s7={6,7,8,9}\n",
    "\n",
    "if s6.intersection(s7)==set():\n",
    "    print('the intersection of two set in empty')\n",
    "else:\n",
    "    print('the two sets have intersection')"
   ]
  },
  {
   "cell_type": "code",
   "execution_count": 32,
   "id": "7265baa3-93fa-4628-b9c6-e806717631e1",
   "metadata": {},
   "outputs": [
    {
     "name": "stdout",
     "output_type": "stream",
     "text": [
      "{0, 1, 2, 3}\n"
     ]
    }
   ],
   "source": [
    "def generate_fibbonaci(n):\n",
    "    a1=set()\n",
    "    a, b = 0, 1\n",
    "\n",
    "    for _ in range(n):\n",
    "        a1.add(a)\n",
    "        a,b=b,a+b\n",
    "    \n",
    "    return a1\n",
    "x1=generate_fibbonaci(5)\n",
    "print(x1)"
   ]
  },
  {
   "cell_type": "code",
   "execution_count": 2,
   "id": "feb0b405-64f8-4e6d-b8de-498ccdf51325",
   "metadata": {},
   "outputs": [
    {
     "data": {
      "text/plain": [
       "{1, 2, 3, 4, 5, 6, 7, 8}"
      ]
     },
     "execution_count": 2,
     "metadata": {},
     "output_type": "execute_result"
    }
   ],
   "source": [
    "l21=[1,1,2,2,3,3,3,4,5,6,7,8,8,7,6,5]\n",
    "set(l21)"
   ]
  },
  {
   "cell_type": "code",
   "execution_count": 3,
   "id": "77a56a05-9bbc-4e7d-95f5-1d1ab6288b22",
   "metadata": {},
   "outputs": [
    {
     "name": "stdout",
     "output_type": "stream",
     "text": [
      "{1, 2, 4, 8, 16}\n"
     ]
    }
   ],
   "source": [
    "x={2**i for i in range(5)}\n",
    "print(x)"
   ]
  },
  {
   "cell_type": "code",
   "execution_count": 4,
   "id": "3e1a98f7-9b48-4494-bc98-49dfe16ecaff",
   "metadata": {},
   "outputs": [
    {
     "data": {
      "text/plain": [
       "{1, 2, 3, 4, 5, 6, 7, 8}"
      ]
     },
     "execution_count": 4,
     "metadata": {},
     "output_type": "execute_result"
    }
   ],
   "source": [
    "l21=[1,1,2,2,3,3,3,4,5,6,7,8,8,7,6,5]\n",
    "x21={1,2,3,4,5,6,7,8,9,10,11,12,13,14}\n",
    "x21.intersection(l21)"
   ]
  },
  {
   "cell_type": "code",
   "execution_count": 6,
   "id": "b8583972-2d1e-41bb-85a7-0f2047953910",
   "metadata": {},
   "outputs": [
    {
     "name": "stdout",
     "output_type": "stream",
     "text": [
      "{0, 1, 3, 6, 10}\n"
     ]
    }
   ],
   "source": [
    "y21={i * (i + 1) // 2 for i in range(5)}\n",
    "print(y21)"
   ]
  },
  {
   "cell_type": "code",
   "execution_count": 8,
   "id": "cb9944e5-e961-4552-b75b-c96b7398a817",
   "metadata": {},
   "outputs": [
    {
     "name": "stdout",
     "output_type": "stream",
     "text": [
      "the x23 is a subset of x22\n"
     ]
    }
   ],
   "source": [
    "x22={1,2,3,4,5,6,7}\n",
    "x23={3,4,5,6}\n",
    "if x23.issubset(x22)==True:\n",
    "    print('the x23 is a subset of x22')\n",
    "else:\n",
    "    print('the x23 is not a subset of x22')"
   ]
  },
  {
   "cell_type": "code",
   "execution_count": 10,
   "id": "5bd62a6b-d7a7-476d-863f-0118bb3c6792",
   "metadata": {},
   "outputs": [
    {
     "name": "stdout",
     "output_type": "stream",
     "text": [
      "{0, 1}\n"
     ]
    }
   ],
   "source": [
    "x24=set(i%2 for i in range(10))\n",
    "print(x24)       #as set has unique elements it cant repeate the same element again and again"
   ]
  },
  {
   "cell_type": "code",
   "execution_count": 12,
   "id": "c8412185-f57f-4146-aef3-d89abd678b36",
   "metadata": {},
   "outputs": [
    {
     "name": "stdout",
     "output_type": "stream",
     "text": [
      "{1, 2, 3, 4, 5, 6, 7, 8, 9, 10, 11, 12, 13, 14, 15, 16, 17, 18, 19, 20}\n"
     ]
    }
   ],
   "source": [
    "x25={1,2,3,4}\n",
    "x26={5,6,7,8}\n",
    "x27={9,10,11,12,13}\n",
    "x28={14,15,16,17,18,19,20}\n",
    "x25.update(x26)\n",
    "x25.update(x27)\n",
    "x25.update(x28)\n",
    "print(x25)"
   ]
  },
  {
   "cell_type": "code",
   "execution_count": null,
   "id": "327eca8e-2afd-47d9-9f84-a45808607c73",
   "metadata": {},
   "outputs": [],
   "source": []
  }
 ],
 "metadata": {
  "kernelspec": {
   "display_name": "Python 3 (ipykernel)",
   "language": "python",
   "name": "python3"
  },
  "language_info": {
   "codemirror_mode": {
    "name": "ipython",
    "version": 3
   },
   "file_extension": ".py",
   "mimetype": "text/x-python",
   "name": "python",
   "nbconvert_exporter": "python",
   "pygments_lexer": "ipython3",
   "version": "3.10.8"
  }
 },
 "nbformat": 4,
 "nbformat_minor": 5
}
